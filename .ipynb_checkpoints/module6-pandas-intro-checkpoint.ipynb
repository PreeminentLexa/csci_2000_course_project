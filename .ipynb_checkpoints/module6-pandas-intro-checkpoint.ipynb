{
 "cells": [
  {
   "cell_type": "markdown",
   "id": "97ab4c8f-8a0c-4fa7-b4b5-14c786487466",
   "metadata": {},
   "source": [
    "# Module 6 - Data Analysis with Pandas\n",
    "\n",
    "Pandas is a Python library that facilitates data analysis. Pandas DataFrames are extremelly useful to perform data analysis as it provides a user friendly way to visualize and run statistical tests on data, its interface has intuitive combinations of commands which resemble SQL in relational databases. \n",
    "\n",
    "Reference on Pandas: https://www.w3schools.com/python/pandas/default.asp\n",
    "\n",
    "- Importing `pandas` as `pd` -- similarly to how `numpy` commonly used alis is `np`."
   ]
  },
  {
   "cell_type": "code",
   "execution_count": 1,
   "id": "41d2fe05-1ab3-4daf-ad39-8c5595a17bcc",
   "metadata": {},
   "outputs": [],
   "source": [
    "import pandas as pd"
   ]
  },
  {
   "cell_type": "markdown",
   "id": "eb7a6fed-f986-4fb9-8427-f16ee43ef42c",
   "metadata": {},
   "source": [
    "## Introduction to Series and DataFrame\n",
    "\n",
    "### Series\n",
    "- `Series` is a data structure provided by Pandas.\n",
    "\n",
    "They are essentially 1D arrays/ While they can hold any type of data, we can also create labels to index the values with. "
   ]
  },
  {
   "cell_type": "code",
   "execution_count": 2,
   "id": "91b11899-d68e-4c06-99b5-dd1fb2335745",
   "metadata": {},
   "outputs": [],
   "source": [
    "# creating a series object\n",
    "obj = pd.Series([4, 7, -5, 3])"
   ]
  },
  {
   "cell_type": "markdown",
   "id": "015fffb4-191f-4fd2-8584-9f3fbcbb6960",
   "metadata": {},
   "source": [
    "- If not given a label, the default indexes used are numeric like in lists and arrays."
   ]
  },
  {
   "cell_type": "code",
   "execution_count": 3,
   "id": "e0c417c9-72cb-4d57-80fc-9fd138fb9ddc",
   "metadata": {},
   "outputs": [
    {
     "data": {
      "text/plain": [
       "0    4\n",
       "1    7\n",
       "2   -5\n",
       "3    3\n",
       "dtype: int64"
      ]
     },
     "execution_count": 3,
     "metadata": {},
     "output_type": "execute_result"
    }
   ],
   "source": [
    "obj"
   ]
  },
  {
   "cell_type": "markdown",
   "id": "419cfd0b-80b2-49bf-882a-771b315ae26c",
   "metadata": {},
   "source": [
    "- So the series has data values and index:"
   ]
  },
  {
   "cell_type": "code",
   "execution_count": 4,
   "id": "87b1929d-d619-4506-8d75-ac09829f3701",
   "metadata": {},
   "outputs": [
    {
     "data": {
      "text/plain": [
       "array([ 4,  7, -5,  3])"
      ]
     },
     "execution_count": 4,
     "metadata": {},
     "output_type": "execute_result"
    }
   ],
   "source": [
    "obj.values"
   ]
  },
  {
   "cell_type": "code",
   "execution_count": 5,
   "id": "1b83e098-fe94-453e-b390-c9e1f10eb63a",
   "metadata": {},
   "outputs": [
    {
     "data": {
      "text/plain": [
       "RangeIndex(start=0, stop=4, step=1)"
      ]
     },
     "execution_count": 5,
     "metadata": {},
     "output_type": "execute_result"
    }
   ],
   "source": [
    "obj.index"
   ]
  },
  {
   "cell_type": "markdown",
   "id": "6ccf5c75-fc19-486c-b729-7bf9bc81d5a4",
   "metadata": {},
   "source": [
    "Pandas is an extension of numpy with *semantic* information.\n",
    "\n",
    "- We can create custom index data to indicate the meaning (or _semantics) of the values.\n",
    "- The index can be specified during construction."
   ]
  },
  {
   "cell_type": "code",
   "execution_count": 6,
   "id": "61b71986-46f9-4b83-8eca-eb6aca0b73f2",
   "metadata": {},
   "outputs": [],
   "source": [
    "obj2 = pd.Series([4, 7, -5, 3], index=['jack', 'jill', 'joe', 'albert'])"
   ]
  },
  {
   "cell_type": "code",
   "execution_count": 7,
   "id": "2fa5cdc1-f2b3-482b-84f5-da87b438f24a",
   "metadata": {},
   "outputs": [
    {
     "data": {
      "text/plain": [
       "jack      4\n",
       "jill      7\n",
       "joe      -5\n",
       "albert    3\n",
       "dtype: int64"
      ]
     },
     "execution_count": 7,
     "metadata": {},
     "output_type": "execute_result"
    }
   ],
   "source": [
    "obj2"
   ]
  },
  {
   "cell_type": "markdown",
   "id": "dc4023ae-4a1a-44d2-844e-4e098cd9f4b4",
   "metadata": {},
   "source": [
    "- Accessing values"
   ]
  },
  {
   "cell_type": "code",
   "execution_count": 8,
   "id": "778ee138-84b1-49b9-b1a6-e183b1a27364",
   "metadata": {},
   "outputs": [
    {
     "data": {
      "text/plain": [
       "4"
      ]
     },
     "execution_count": 8,
     "metadata": {},
     "output_type": "execute_result"
    }
   ],
   "source": [
    "# extract values given an index?\n",
    "\n",
    "obj2['jack']"
   ]
  },
  {
   "cell_type": "code",
   "execution_count": 9,
   "id": "ed49f1a6-476a-4034-af1f-740ea7583f45",
   "metadata": {},
   "outputs": [
    {
     "data": {
      "text/plain": [
       "3"
      ]
     },
     "execution_count": 9,
     "metadata": {},
     "output_type": "execute_result"
    }
   ],
   "source": [
    "obj2['albert']"
   ]
  },
  {
   "cell_type": "code",
   "execution_count": 10,
   "id": "8812c74b-d25c-42c5-af29-54abf82ca5de",
   "metadata": {},
   "outputs": [
    {
     "data": {
      "text/plain": [
       "jack    4\n",
       "jill    7\n",
       "joe    -5\n",
       "dtype: int64"
      ]
     },
     "execution_count": 10,
     "metadata": {},
     "output_type": "execute_result"
    }
   ],
   "source": [
    "# We can make use of generalized numpy indexing syntax to extract\n",
    "# sub series\n",
    "\n",
    "obj2[['jack', 'jill', 'joe']]"
   ]
  },
  {
   "cell_type": "code",
   "execution_count": 11,
   "id": "c6822307-6181-41f6-9aa6-5b26520e7e1f",
   "metadata": {},
   "outputs": [
    {
     "data": {
      "text/plain": [
       "jack       True\n",
       "jill       True\n",
       "joe       False\n",
       "albert     True\n",
       "dtype: bool"
      ]
     },
     "execution_count": 11,
     "metadata": {},
     "output_type": "execute_result"
    }
   ],
   "source": [
    "# Construct boolean indexes based on a Numpy boolean array construction\n",
    "\n",
    "obj2 > 0"
   ]
  },
  {
   "cell_type": "code",
   "execution_count": 12,
   "id": "6d017478-afb3-4aae-b289-8547b5f7a290",
   "metadata": {},
   "outputs": [
    {
     "data": {
      "text/plain": [
       "jack      4\n",
       "jill      7\n",
       "albert    3\n",
       "dtype: int64"
      ]
     },
     "execution_count": 12,
     "metadata": {},
     "output_type": "execute_result"
    }
   ],
   "source": [
    "# We can use the boolean series to index the series.\n",
    "# (similar to numpy's indexing with boolean arrays)\n",
    "obj2[obj2 > 0]"
   ]
  },
  {
   "cell_type": "markdown",
   "id": "be908321-33f1-4fa3-a9b2-5b72b38e7f80",
   "metadata": {},
   "source": [
    "- We can construct a `Series` from a dictionary"
   ]
  },
  {
   "cell_type": "code",
   "execution_count": 13,
   "id": "9ab79074-5087-4eb0-a9e8-66268e19b2dc",
   "metadata": {},
   "outputs": [
    {
     "data": {
      "text/plain": [
       "{'Ohio': 35000, 'Texas': 71000, 'Oregon': 16000, 'Utah': 5000}"
      ]
     },
     "execution_count": 13,
     "metadata": {},
     "output_type": "execute_result"
    }
   ],
   "source": [
    "dict_data = {'Ohio': 35000, 'Texas': 71000, 'Oregon': 16000, 'Utah': 5000}\n",
    "dict_data"
   ]
  },
  {
   "cell_type": "code",
   "execution_count": 14,
   "id": "98bc5fda-1e4f-472b-8028-0ac07c99904c",
   "metadata": {},
   "outputs": [
    {
     "data": {
      "text/plain": [
       "dict_keys(['Ohio', 'Texas', 'Oregon', 'Utah'])"
      ]
     },
     "execution_count": 14,
     "metadata": {},
     "output_type": "execute_result"
    }
   ],
   "source": [
    "dict_data.keys()"
   ]
  },
  {
   "cell_type": "code",
   "execution_count": 15,
   "id": "ce408c3c-85c3-44a1-b186-02ab940a31ba",
   "metadata": {},
   "outputs": [
    {
     "data": {
      "text/plain": [
       "Ohio      35000\n",
       "Texas     71000\n",
       "Oregon    16000\n",
       "Utah       5000\n",
       "dtype: int64"
      ]
     },
     "execution_count": 15,
     "metadata": {},
     "output_type": "execute_result"
    }
   ],
   "source": [
    "obj3 = pd.Series(dict_data)\n",
    "obj3"
   ]
  },
  {
   "cell_type": "markdown",
   "id": "17fe7642-54b6-42c3-ba99-480874f02bf9",
   "metadata": {},
   "source": [
    "**Note:**\n",
    "- `dict_data` does not have `California` count.\n",
    "- What if we insist that `California` is part of the index?"
   ]
  },
  {
   "cell_type": "code",
   "execution_count": 16,
   "id": "4199c48b-32f9-4de3-9e77-40d9e45fd47e",
   "metadata": {},
   "outputs": [
    {
     "data": {
      "text/plain": [
       "California        NaN\n",
       "Ohio          35000.0\n",
       "Oregon        16000.0\n",
       "Texas         71000.0\n",
       "dtype: float64"
      ]
     },
     "execution_count": 16,
     "metadata": {},
     "output_type": "execute_result"
    }
   ],
   "source": [
    "states = ['California', 'Ohio', 'Oregon', 'Texas']\n",
    "obj4 = pd.Series(dict_data, index=states)\n",
    "obj4"
   ]
  },
  {
   "cell_type": "code",
   "execution_count": 17,
   "id": "2da8ce43-d063-434c-bb46-2edb864de63f",
   "metadata": {},
   "outputs": [
    {
     "data": {
      "text/plain": [
       "California     True\n",
       "Ohio          False\n",
       "Oregon        False\n",
       "Texas         False\n",
       "dtype: bool"
      ]
     },
     "execution_count": 17,
     "metadata": {},
     "output_type": "execute_result"
    }
   ],
   "source": [
    "#\n",
    "# Check which index entries have missing value\n",
    "# using pd.isnull(...)\n",
    "#\n",
    "pd.isnull(obj4)"
   ]
  },
  {
   "cell_type": "code",
   "execution_count": 18,
   "id": "848f5187-1984-4507-81f6-b4c74b77f8c8",
   "metadata": {},
   "outputs": [
    {
     "data": {
      "text/plain": [
       "California    False\n",
       "Ohio           True\n",
       "Oregon         True\n",
       "Texas          True\n",
       "dtype: bool"
      ]
     },
     "execution_count": 18,
     "metadata": {},
     "output_type": "execute_result"
    }
   ],
   "source": [
    "pd.notnull(obj4)"
   ]
  },
  {
   "cell_type": "code",
   "execution_count": 19,
   "id": "467c3e82-9a1b-405f-9dda-af1a20ba70bb",
   "metadata": {},
   "outputs": [
    {
     "data": {
      "text/plain": [
       "California     True\n",
       "Ohio          False\n",
       "Oregon        False\n",
       "Texas         False\n",
       "dtype: bool"
      ]
     },
     "execution_count": 19,
     "metadata": {},
     "output_type": "execute_result"
    }
   ],
   "source": [
    "obj4.isnull()"
   ]
  },
  {
   "cell_type": "markdown",
   "id": "d51b3712-bc34-41ef-bb0d-9cb3e25e0fb9",
   "metadata": {},
   "source": [
    "- We can perform operations between series, for example if we wan to aggregate the values for each state:"
   ]
  },
  {
   "cell_type": "code",
   "execution_count": 20,
   "id": "ad20201e-a270-44ef-b57a-202ca2b23ea5",
   "metadata": {},
   "outputs": [
    {
     "data": {
      "text/plain": [
       "Ohio      35000\n",
       "Texas     71000\n",
       "Oregon    16000\n",
       "Utah       5000\n",
       "dtype: int64"
      ]
     },
     "execution_count": 20,
     "metadata": {},
     "output_type": "execute_result"
    }
   ],
   "source": [
    "obj3"
   ]
  },
  {
   "cell_type": "code",
   "execution_count": 21,
   "id": "dde79e13-d758-4c58-8176-68c52b2b5a77",
   "metadata": {},
   "outputs": [
    {
     "data": {
      "text/plain": [
       "California        NaN\n",
       "Ohio          35000.0\n",
       "Oregon        16000.0\n",
       "Texas         71000.0\n",
       "dtype: float64"
      ]
     },
     "execution_count": 21,
     "metadata": {},
     "output_type": "execute_result"
    }
   ],
   "source": [
    "obj4"
   ]
  },
  {
   "cell_type": "code",
   "execution_count": 22,
   "id": "a38e5fab-b940-49ce-8348-de2f7af5a29b",
   "metadata": {},
   "outputs": [
    {
     "data": {
      "text/plain": [
       "California         NaN\n",
       "Ohio           70000.0\n",
       "Oregon         32000.0\n",
       "Texas         142000.0\n",
       "Utah               NaN\n",
       "dtype: float64"
      ]
     },
     "execution_count": 22,
     "metadata": {},
     "output_type": "execute_result"
    }
   ],
   "source": [
    "obj3 + obj4"
   ]
  },
  {
   "cell_type": "markdown",
   "id": "28c30a56-f75e-403d-9fc2-ee07b83d3fe0",
   "metadata": {},
   "source": [
    "- Pandas also allow us to update indexes after they are created."
   ]
  },
  {
   "cell_type": "code",
   "execution_count": 23,
   "id": "574a2055-6654-4efb-961d-bf5ddb0ae30a",
   "metadata": {},
   "outputs": [
    {
     "data": {
      "text/plain": [
       "0    4\n",
       "1    7\n",
       "2   -5\n",
       "3    3\n",
       "dtype: int64"
      ]
     },
     "execution_count": 23,
     "metadata": {},
     "output_type": "execute_result"
    }
   ],
   "source": [
    "obj"
   ]
  },
  {
   "cell_type": "code",
   "execution_count": 24,
   "id": "50007779-5fac-4839-af8d-fc69e28bc5cb",
   "metadata": {},
   "outputs": [
    {
     "data": {
      "text/plain": [
       "Bob      4\n",
       "Steve    7\n",
       "Jeff    -5\n",
       "Ryan     3\n",
       "dtype: int64"
      ]
     },
     "execution_count": 24,
     "metadata": {},
     "output_type": "execute_result"
    }
   ],
   "source": [
    "# assigning semantic indexes\n",
    "obj.index = ['Bob', 'Steve', 'Jeff', 'Ryan']\n",
    "obj"
   ]
  },
  {
   "cell_type": "markdown",
   "id": "bda901f9-8cc0-43dd-8d8d-71602f20d89b",
   "metadata": {},
   "source": [
    "- We can also add other semantic, or meta information to the object itself:"
   ]
  },
  {
   "cell_type": "code",
   "execution_count": 25,
   "id": "8364b3fd-ef03-4dad-8305-50bee73952de",
   "metadata": {},
   "outputs": [
    {
     "data": {
      "text/plain": [
       "Bob      4\n",
       "Steve    7\n",
       "Jeff    -5\n",
       "Ryan     3\n",
       "Name: trading_income, dtype: int64"
      ]
     },
     "execution_count": 25,
     "metadata": {},
     "output_type": "execute_result"
    }
   ],
   "source": [
    "# assignning it an object name\n",
    "obj.name = 'trading_income'\n",
    "obj"
   ]
  },
  {
   "cell_type": "code",
   "execution_count": 26,
   "id": "18427f17-7125-4033-91bf-ea733b955d90",
   "metadata": {},
   "outputs": [
    {
     "data": {
      "text/plain": [
       "customer_names\n",
       "Bob      4\n",
       "Steve    7\n",
       "Jeff    -5\n",
       "Ryan     3\n",
       "Name: trading_income, dtype: int64"
      ]
     },
     "execution_count": 26,
     "metadata": {},
     "output_type": "execute_result"
    }
   ],
   "source": [
    "# assigning a name to the indexes\n",
    "obj.index.name = 'customer_names'\n",
    "obj"
   ]
  },
  {
   "cell_type": "markdown",
   "id": "a775f18b-2e18-4f8c-bb3f-8bb6fd4ba48d",
   "metadata": {},
   "source": [
    "### DataFrame \n",
    "\n",
    "`DataFrame` is a data structure provided by Pandas to store and manipulater tabular data\n",
    "\n",
    "- Construct a DataFrame object from a dictionary of values."
   ]
  },
  {
   "cell_type": "code",
   "execution_count": 27,
   "id": "6b363bfa-1f11-4e76-967a-4fb58d4b7bfc",
   "metadata": {},
   "outputs": [
    {
     "data": {
      "text/plain": [
       "{'state': ['Ohio', 'Ohio', 'Ohio', 'Nevada', 'Nevada'],\n",
       " 'year': [2000, 2001, 2002, 2001, 2002],\n",
       " 'pop': [1.5, 1.7, 3.6, 2.4, 2.9]}"
      ]
     },
     "execution_count": 27,
     "metadata": {},
     "output_type": "execute_result"
    }
   ],
   "source": [
    "data = {'state': ['Ohio', 'Ohio', 'Ohio', 'Nevada', 'Nevada'],\n",
    "       'year': [2000, 2001, 2002, 2001, 2002],\n",
    "       'pop': [1.5, 1.7, 3.6, 2.4, 2.9]}\n",
    "data"
   ]
  },
  {
   "cell_type": "code",
   "execution_count": 28,
   "id": "7b9e3706-796b-4528-b785-6e4e13323769",
   "metadata": {},
   "outputs": [],
   "source": [
    "frame = pd.DataFrame(data)"
   ]
  },
  {
   "cell_type": "code",
   "execution_count": 29,
   "id": "cc14245f-9ab0-4ad5-89a1-78b8006bbcb1",
   "metadata": {},
   "outputs": [
    {
     "data": {
      "text/html": [
       "<div>\n",
       "<style scoped>\n",
       "    .dataframe tbody tr th:only-of-type {\n",
       "        vertical-align: middle;\n",
       "    }\n",
       "\n",
       "    .dataframe tbody tr th {\n",
       "        vertical-align: top;\n",
       "    }\n",
       "\n",
       "    .dataframe thead th {\n",
       "        text-align: right;\n",
       "    }\n",
       "</style>\n",
       "<table border=\"1\" class=\"dataframe\">\n",
       "  <thead>\n",
       "    <tr style=\"text-align: right;\">\n",
       "      <th></th>\n",
       "      <th>state</th>\n",
       "      <th>year</th>\n",
       "      <th>pop</th>\n",
       "    </tr>\n",
       "  </thead>\n",
       "  <tbody>\n",
       "    <tr>\n",
       "      <th>0</th>\n",
       "      <td>Ohio</td>\n",
       "      <td>2000</td>\n",
       "      <td>1.5</td>\n",
       "    </tr>\n",
       "    <tr>\n",
       "      <th>1</th>\n",
       "      <td>Ohio</td>\n",
       "      <td>2001</td>\n",
       "      <td>1.7</td>\n",
       "    </tr>\n",
       "    <tr>\n",
       "      <th>2</th>\n",
       "      <td>Ohio</td>\n",
       "      <td>2002</td>\n",
       "      <td>3.6</td>\n",
       "    </tr>\n",
       "    <tr>\n",
       "      <th>3</th>\n",
       "      <td>Nevada</td>\n",
       "      <td>2001</td>\n",
       "      <td>2.4</td>\n",
       "    </tr>\n",
       "    <tr>\n",
       "      <th>4</th>\n",
       "      <td>Nevada</td>\n",
       "      <td>2002</td>\n",
       "      <td>2.9</td>\n",
       "    </tr>\n",
       "  </tbody>\n",
       "</table>\n",
       "</div>"
      ],
      "text/plain": [
       "    state  year  pop\n",
       "0    Ohio  2000  1.5\n",
       "1    Ohio  2001  1.7\n",
       "2    Ohio  2002  3.6\n",
       "3  Nevada  2001  2.4\n",
       "4  Nevada  2002  2.9"
      ]
     },
     "execution_count": 29,
     "metadata": {},
     "output_type": "execute_result"
    }
   ],
   "source": [
    "frame"
   ]
  },
  {
   "cell_type": "code",
   "execution_count": 32,
   "id": "cdcab79a-7256-4174-aaf2-ffabc4be39ac",
   "metadata": {},
   "outputs": [
    {
     "data": {
      "text/plain": [
       "0      Ohio\n",
       "1      Ohio\n",
       "2      Ohio\n",
       "3    Nevada\n",
       "4    Nevada\n",
       "Name: state, dtype: object"
      ]
     },
     "execution_count": 32,
     "metadata": {},
     "output_type": "execute_result"
    }
   ],
   "source": [
    "# Individual columns can be extracted\n",
    "# as a Pandas series\n",
    "\n",
    "frame['state']"
   ]
  },
  {
   "cell_type": "code",
   "execution_count": 33,
   "id": "a86f4fca-689b-4f3d-a272-dd93c41a601f",
   "metadata": {},
   "outputs": [
    {
     "data": {
      "text/html": [
       "<div>\n",
       "<style scoped>\n",
       "    .dataframe tbody tr th:only-of-type {\n",
       "        vertical-align: middle;\n",
       "    }\n",
       "\n",
       "    .dataframe tbody tr th {\n",
       "        vertical-align: top;\n",
       "    }\n",
       "\n",
       "    .dataframe thead th {\n",
       "        text-align: right;\n",
       "    }\n",
       "</style>\n",
       "<table border=\"1\" class=\"dataframe\">\n",
       "  <thead>\n",
       "    <tr style=\"text-align: right;\">\n",
       "      <th></th>\n",
       "      <th>state</th>\n",
       "      <th>year</th>\n",
       "    </tr>\n",
       "  </thead>\n",
       "  <tbody>\n",
       "    <tr>\n",
       "      <th>0</th>\n",
       "      <td>Ohio</td>\n",
       "      <td>2000</td>\n",
       "    </tr>\n",
       "    <tr>\n",
       "      <th>1</th>\n",
       "      <td>Ohio</td>\n",
       "      <td>2001</td>\n",
       "    </tr>\n",
       "    <tr>\n",
       "      <th>2</th>\n",
       "      <td>Ohio</td>\n",
       "      <td>2002</td>\n",
       "    </tr>\n",
       "    <tr>\n",
       "      <th>3</th>\n",
       "      <td>Nevada</td>\n",
       "      <td>2001</td>\n",
       "    </tr>\n",
       "    <tr>\n",
       "      <th>4</th>\n",
       "      <td>Nevada</td>\n",
       "      <td>2002</td>\n",
       "    </tr>\n",
       "  </tbody>\n",
       "</table>\n",
       "</div>"
      ],
      "text/plain": [
       "    state  year\n",
       "0    Ohio  2000\n",
       "1    Ohio  2001\n",
       "2    Ohio  2002\n",
       "3  Nevada  2001\n",
       "4  Nevada  2002"
      ]
     },
     "execution_count": 33,
     "metadata": {},
     "output_type": "execute_result"
    }
   ],
   "source": [
    "# Multiple columns can be extracted\n",
    "# as a Pandas DataFrame\n",
    "frame[['state', 'year']]"
   ]
  },
  {
   "cell_type": "markdown",
   "id": "fc875e58-90d0-4116-8b97-e4f652dd9bee",
   "metadata": {},
   "source": [
    "- Another way of constructing a DataFrame is from a collection of rows."
   ]
  },
  {
   "cell_type": "code",
   "execution_count": 34,
   "id": "9ac268cd-30ac-44b2-ac92-a36af66522fb",
   "metadata": {},
   "outputs": [
    {
     "data": {
      "text/plain": [
       "[['Ohio', 2000, 1.5],\n",
       " ['Ohio', 2001, 1.7],\n",
       " ['Ohio', 2002, 3.6],\n",
       " ['Nevada', 2001, 2.4],\n",
       " ['Nevada', 2002, 2.9]]"
      ]
     },
     "execution_count": 34,
     "metadata": {},
     "output_type": "execute_result"
    }
   ],
   "source": [
    "data = [['Ohio', 2000, 1.5],\n",
    "       ['Ohio', 2001, 1.7],\n",
    "       ['Ohio', 2002, 3.6],\n",
    "       ['Nevada', 2001, 2.4],\n",
    "       ['Nevada', 2002, 2.9]]\n",
    "data"
   ]
  },
  {
   "cell_type": "code",
   "execution_count": 35,
   "id": "8dc75197-04de-4849-8cdd-44c51c9c8328",
   "metadata": {},
   "outputs": [
    {
     "data": {
      "text/html": [
       "<div>\n",
       "<style scoped>\n",
       "    .dataframe tbody tr th:only-of-type {\n",
       "        vertical-align: middle;\n",
       "    }\n",
       "\n",
       "    .dataframe tbody tr th {\n",
       "        vertical-align: top;\n",
       "    }\n",
       "\n",
       "    .dataframe thead th {\n",
       "        text-align: right;\n",
       "    }\n",
       "</style>\n",
       "<table border=\"1\" class=\"dataframe\">\n",
       "  <thead>\n",
       "    <tr style=\"text-align: right;\">\n",
       "      <th></th>\n",
       "      <th>state</th>\n",
       "      <th>year</th>\n",
       "      <th>pop</th>\n",
       "    </tr>\n",
       "  </thead>\n",
       "  <tbody>\n",
       "    <tr>\n",
       "      <th>0</th>\n",
       "      <td>Ohio</td>\n",
       "      <td>2000</td>\n",
       "      <td>1.5</td>\n",
       "    </tr>\n",
       "    <tr>\n",
       "      <th>1</th>\n",
       "      <td>Ohio</td>\n",
       "      <td>2001</td>\n",
       "      <td>1.7</td>\n",
       "    </tr>\n",
       "    <tr>\n",
       "      <th>2</th>\n",
       "      <td>Ohio</td>\n",
       "      <td>2002</td>\n",
       "      <td>3.6</td>\n",
       "    </tr>\n",
       "    <tr>\n",
       "      <th>3</th>\n",
       "      <td>Nevada</td>\n",
       "      <td>2001</td>\n",
       "      <td>2.4</td>\n",
       "    </tr>\n",
       "    <tr>\n",
       "      <th>4</th>\n",
       "      <td>Nevada</td>\n",
       "      <td>2002</td>\n",
       "      <td>2.9</td>\n",
       "    </tr>\n",
       "  </tbody>\n",
       "</table>\n",
       "</div>"
      ],
      "text/plain": [
       "    state  year  pop\n",
       "0    Ohio  2000  1.5\n",
       "1    Ohio  2001  1.7\n",
       "2    Ohio  2002  3.6\n",
       "3  Nevada  2001  2.4\n",
       "4  Nevada  2002  2.9"
      ]
     },
     "execution_count": 35,
     "metadata": {},
     "output_type": "execute_result"
    }
   ],
   "source": [
    "frame2 = pd.DataFrame(data, columns=['state', 'year', 'pop'])\n",
    "frame2"
   ]
  }
 ],
 "metadata": {
  "kernelspec": {
   "display_name": "Python 3 (ipykernel)",
   "language": "python",
   "name": "python3"
  },
  "language_info": {
   "codemirror_mode": {
    "name": "ipython",
    "version": 3
   },
   "file_extension": ".py",
   "mimetype": "text/x-python",
   "name": "python",
   "nbconvert_exporter": "python",
   "pygments_lexer": "ipython3",
   "version": "3.8.12"
  }
 },
 "nbformat": 4,
 "nbformat_minor": 5
}

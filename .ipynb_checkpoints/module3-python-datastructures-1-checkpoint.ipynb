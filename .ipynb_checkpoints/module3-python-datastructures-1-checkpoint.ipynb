{
 "cells": [
  {
   "cell_type": "markdown",
   "id": "4d8a8bb4-69a2-4fa6-906d-b7f33c25f861",
   "metadata": {},
   "source": [
    "# Module 3: Python\n",
    "\n",
    "We will review some key elements of the Python programmign language:\n",
    "1. Data Structures: https://docs.python.org/3/tutorial/datastructures.html \n",
    "2. Functional programming: https://docs.python.org/3/howto/functional.html\n",
    "3. Jupyter Notebooks: https://jupyter-notebook.readthedocs.io/en/stable/notebook.html\n",
    "\n",
    "More references, quick Python tutorial: https://docs.python.org/3/tutorial/"
   ]
  },
  {
   "cell_type": "markdown",
   "id": "441d2ade-05e1-4ecc-948b-6990a00475c5",
   "metadata": {},
   "source": [
    "## Mutable vs Immutable Data\n",
    "\n",
    "Python mantains *data* in memory which are referenced by *variables*."
   ]
  },
  {
   "cell_type": "code",
   "execution_count": 60,
   "id": "2d273607-caa3-4e4c-9e00-89379e47589a",
   "metadata": {},
   "outputs": [
    {
     "name": "stdout",
     "output_type": "stream",
     "text": [
      "Hello\n"
     ]
    }
   ],
   "source": [
    "x = \"Hello\"\n",
    "print(x)"
   ]
  },
  {
   "cell_type": "raw",
   "id": "0afcb39a-cf5c-4a3d-b65a-1d200c5978e1",
   "metadata": {},
   "source": [
    "           +-------------+\n",
    "    x ---> | Hello       |\n",
    "           +-------------+"
   ]
  },
  {
   "cell_type": "markdown",
   "id": "387e4507-3917-4222-bddf-9cddad25985d",
   "metadata": {},
   "source": [
    "### Immutable Strings\n",
    "\n",
    "Python Strings are immutable. Namely, there is no way to modify the content of the data referenced by `x`.\n",
    "- If we want to change the string x = \"Hello\", we have to create a new string and update the reference."
   ]
  },
  {
   "cell_type": "code",
   "execution_count": null,
   "id": "864f4bab-062f-4f73-8151-aa2484849bfc",
   "metadata": {},
   "outputs": [],
   "source": [
    "x = \"Hello World\"\n",
    "print(x)"
   ]
  },
  {
   "cell_type": "raw",
   "id": "eb3930cc-22f7-48c2-bdfe-d84dd59c3acd",
   "metadata": {},
   "source": [
    "           +-------------+\n",
    "    x -+   | Hello       |\n",
    "       |   +-------------+\n",
    "       |\n",
    "       |    +--------------+\n",
    "       +--> | Hello World  |\n",
    "            +--------------+"
   ]
  },
  {
   "cell_type": "markdown",
   "id": "4adfbf6c-7f43-4968-9631-e1772beba801",
   "metadata": {},
   "source": [
    "### Mutable lists\n",
    "\n",
    "Python supports mutable lists.\n"
   ]
  },
  {
   "cell_type": "code",
   "execution_count": 61,
   "id": "27e5514c-6421-4170-b25a-13fc29e50edf",
   "metadata": {},
   "outputs": [
    {
     "name": "stdout",
     "output_type": "stream",
     "text": [
      "[1, 2, 3]\n",
      "[1, 2, 3]\n"
     ]
    }
   ],
   "source": [
    "x = [1, 2, 3]\n",
    "y = x\n",
    "print(x)\n",
    "print(y)"
   ]
  },
  {
   "cell_type": "raw",
   "id": "9c297b73-4620-411a-b3fb-00cf8d1890fc",
   "metadata": {},
   "source": [
    "    y\n",
    "    |\n",
    "    |\n",
    "    |      +---+---+---+\n",
    "    +----->|   |   |   |\n",
    "           | 1 | 2 | 3 |\n",
    "    x ---->|   |   |   |\n",
    "           +---+---+---+"
   ]
  },
  {
   "cell_type": "markdown",
   "id": "059cf77b-13af-40e3-af6b-3e50a3993022",
   "metadata": {},
   "source": [
    "Unlike strings, if we want to change the value of `x`, Python allows in-place modification of `x`. \n",
    "\n",
    "- In-place modifcation:"
   ]
  },
  {
   "cell_type": "code",
   "execution_count": 62,
   "id": "ce1acaf5-d0a9-4fdd-acf5-3e13273594d9",
   "metadata": {},
   "outputs": [
    {
     "name": "stdout",
     "output_type": "stream",
     "text": [
      "[11, 2, 3]\n"
     ]
    }
   ],
   "source": [
    "x[0] += 10\n",
    "print(x)"
   ]
  },
  {
   "cell_type": "raw",
   "id": "bd5bc010-11eb-4b81-9cd4-1c4c1a7703ce",
   "metadata": {},
   "source": [
    "    y\n",
    "    |\n",
    "    |\n",
    "    |      +----+---+---+\n",
    "    +----->|    |   |   |\n",
    "           | 11 | 2 | 3 |\n",
    "    x ---->|    |   |   |\n",
    "           +----+---+---+"
   ]
  },
  {
   "cell_type": "markdown",
   "id": "05df8906-7bf8-46bd-a5c0-9c32a284bd27",
   "metadata": {},
   "source": [
    "#### Side-effects of mutable data\n",
    "Note that the side effect of `x[0] += 10` is that `y` also gets updated."
   ]
  },
  {
   "cell_type": "code",
   "execution_count": 63,
   "id": "771c6b71-dbf7-4895-99ae-bb85f61e69a9",
   "metadata": {},
   "outputs": [
    {
     "name": "stdout",
     "output_type": "stream",
     "text": [
      "[11, 2, 3]\n"
     ]
    }
   ],
   "source": [
    "print(y)"
   ]
  },
  {
   "cell_type": "markdown",
   "id": "bac909e6-217a-4f14-99c7-f4d7b99803cd",
   "metadata": {},
   "source": [
    "## Aggregate Types in Python\n",
    "\n",
    "- List\n",
    "- Memory model of lists\n",
    "- Tuple\n",
    "- Dictionary\n",
    "- Set\n",
    "\n",
    "### Lists\n",
    "Python list is arguably the most versatile compound data types.\n",
    "\n",
    "####  Construction\n",
    "One can construct lists with the list syntax: `[ ... ]`. Elements are separated by `,`."
   ]
  },
  {
   "cell_type": "code",
   "execution_count": 64,
   "id": "6fcea6d8-9c2c-4d59-865c-ad1b62f41187",
   "metadata": {},
   "outputs": [
    {
     "name": "stdout",
     "output_type": "stream",
     "text": [
      "[1, 4, 9, 16, 25]\n",
      "5\n"
     ]
    }
   ],
   "source": [
    "squares = [1, 4, 9, 16, 25]\n",
    "print(squares)\n",
    "print(len(squares))"
   ]
  },
  {
   "cell_type": "markdown",
   "id": "4a353652-b330-4c76-af7e-ec490b3df25d",
   "metadata": {},
   "source": [
    "#### Indexing by position"
   ]
  },
  {
   "cell_type": "code",
   "execution_count": 65,
   "id": "de06da53-94f1-4887-8379-b7c1be47e79a",
   "metadata": {},
   "outputs": [
    {
     "name": "stdout",
     "output_type": "stream",
     "text": [
      "1\n",
      "25\n"
     ]
    }
   ],
   "source": [
    "# indexing returns the item\n",
    "print(squares[0])  \n",
    "print(squares[-1]) "
   ]
  },
  {
   "cell_type": "markdown",
   "id": "6d0dd1bc-8bce-4673-bf36-b87315cee6c2",
   "metadata": {},
   "source": [
    "#### Indexing by Range"
   ]
  },
  {
   "cell_type": "code",
   "execution_count": 66,
   "id": "e25dc2f0-d3c5-4822-806c-f5f68bda6ba7",
   "metadata": {},
   "outputs": [
    {
     "name": "stdout",
     "output_type": "stream",
     "text": [
      "[1, 4, 9]\n",
      "[4, 9]\n",
      "[1, 4, 9]\n",
      "[1, 4, 9, 16, 25]\n",
      "[16, 25]\n",
      "[1, 4, 9, 16, 25]\n"
     ]
    }
   ],
   "source": [
    "# indexing from start to end\n",
    "# start - inclusive\n",
    "# end - exclusive\n",
    "print(squares[0:3])\n",
    "print(squares[1:3])\n",
    "\n",
    "# start can be omitted, the\n",
    "# default start is 0.\n",
    "print(squares[:3])\n",
    "print(squares[:5])\n",
    "\n",
    "\n",
    "# the end can be omitted, and\n",
    "# the default end is the\n",
    "# length of the list.\n",
    "print(squares[3:])\n",
    "print(squares[:])"
   ]
  },
  {
   "cell_type": "markdown",
   "id": "946b366f-6c0a-4b5e-94d3-89d94acdf6ba",
   "metadata": {},
   "source": [
    "### List Memory Model\n",
    "\n",
    "Consider the following code operating on Python lists:"
   ]
  },
  {
   "cell_type": "code",
   "execution_count": 67,
   "id": "58dc1d96-35e5-4cc3-901e-9cecb9f7bcc1",
   "metadata": {},
   "outputs": [
    {
     "name": "stdout",
     "output_type": "stream",
     "text": [
      "[[1], [2], [3]]\n"
     ]
    }
   ],
   "source": [
    "x = [1]\n",
    "y = [2]\n",
    "z = [3]\n",
    "\n",
    "# stores references to values of x,y,z\n",
    "list1 = [x, y, z]\n",
    "\n",
    "print(list1)"
   ]
  },
  {
   "cell_type": "raw",
   "id": "0cec0f1e-f28f-443f-b564-a977220ff8e8",
   "metadata": {},
   "source": [
    "    +-----+-----+-----+\n",
    "    |  *  |  *  |  *  |  \n",
    "    +--|--+--|--+--|--+\n",
    "       |     |     |\n",
    "       |     |     |\n",
    "   x   | y   | z   |\n",
    "    \\  |  \\  |  \\  |  \n",
    "     \\ |   \\ |   \\ |  \n",
    "     +---+ +---+ +---+\n",
    "     | 1 | | 2 | | 3 |\n",
    "     +---+ +---+ +---+"
   ]
  },
  {
   "cell_type": "markdown",
   "id": "677b051b-a420-4b0a-a64f-b274d51deff4",
   "metadata": {},
   "source": [
    "#### Side-effects\n",
    "Modifying `x` will also affect the content of list"
   ]
  },
  {
   "cell_type": "code",
   "execution_count": 68,
   "id": "a8946467-2470-4f0a-979f-3c6aaca3512c",
   "metadata": {},
   "outputs": [
    {
     "name": "stdout",
     "output_type": "stream",
     "text": [
      "[[-1], [2], [3]]\n"
     ]
    }
   ],
   "source": [
    "x[0] = -1\n",
    "print(list1)"
   ]
  },
  {
   "cell_type": "markdown",
   "id": "c7db46ce-536b-401a-a068-c7298982cce9",
   "metadata": {},
   "source": [
    "Modifying `list1` will also modify `x`"
   ]
  },
  {
   "cell_type": "code",
   "execution_count": 69,
   "id": "4310b80a-a621-4a31-8c45-a24717a05c98",
   "metadata": {},
   "outputs": [
    {
     "name": "stdout",
     "output_type": "stream",
     "text": [
      "[-5]\n"
     ]
    }
   ],
   "source": [
    "list1[0][0]=-5\n",
    "print(x)"
   ]
  },
  {
   "cell_type": "markdown",
   "id": "93a92317-35f1-42e7-85ed-4794d5509f6f",
   "metadata": {},
   "source": [
    "## Tuples\n",
    "Tuples are *immutable* lists.\n",
    "\n",
    "1. No element can be removed from a tuple.\n",
    "2. No element can be added to a tuple.\n",
    "3. Entries of a tuple cannot be altered.\n",
    "\n",
    "### Construction and indexing\n",
    "Construction `(__, __, __)`. The parenthese are optional:\n",
    "\n",
    "```\n",
    "t = (12345, 54321, 'hello!')\n",
    "t = 12345, 54321, 'hello!'\n",
    "```"
   ]
  },
  {
   "cell_type": "code",
   "execution_count": 70,
   "id": "85169a26-29fc-4e26-8f56-95a687e276d0",
   "metadata": {},
   "outputs": [
    {
     "name": "stdout",
     "output_type": "stream",
     "text": [
      "(12345, 54321, 'hello!')\n",
      "12345\n",
      "((12345, 54321, 'hello!'), (1, 2, 3, 4, 5))\n"
     ]
    }
   ],
   "source": [
    "t = (12345, 54321, 'hello!')\n",
    "print(t)\n",
    "\n",
    "# indexing is the same as lists\n",
    "print(t[0])\n",
    "\n",
    "# tuples can be nested\n",
    "u = t, (1, 2, 3, 4, 5)\n",
    "print(u)"
   ]
  },
  {
   "cell_type": "markdown",
   "id": "3e04ce6e-00d9-4328-afa3-ed7cfd6e89d1",
   "metadata": {},
   "source": [
    "**Tuples are immutable**"
   ]
  },
  {
   "cell_type": "code",
   "execution_count": 71,
   "id": "0f592be1-fa0e-416b-93d9-a90614f19bff",
   "metadata": {},
   "outputs": [
    {
     "ename": "TypeError",
     "evalue": "'tuple' object does not support item assignment",
     "output_type": "error",
     "traceback": [
      "\u001b[0;31m---------------------------------------------------------------------------\u001b[0m",
      "\u001b[0;31mTypeError\u001b[0m                                 Traceback (most recent call last)",
      "\u001b[0;32m/tmp/ipykernel_108/3712877911.py\u001b[0m in \u001b[0;36m<module>\u001b[0;34m\u001b[0m\n\u001b[1;32m      1\u001b[0m \u001b[0;31m# Tuples are immutable:\u001b[0m\u001b[0;34m\u001b[0m\u001b[0;34m\u001b[0m\u001b[0;34m\u001b[0m\u001b[0m\n\u001b[0;32m----> 2\u001b[0;31m \u001b[0mt\u001b[0m\u001b[0;34m[\u001b[0m\u001b[0;36m0\u001b[0m\u001b[0;34m]\u001b[0m \u001b[0;34m=\u001b[0m \u001b[0;36m88888\u001b[0m\u001b[0;34m\u001b[0m\u001b[0;34m\u001b[0m\u001b[0m\n\u001b[0m",
      "\u001b[0;31mTypeError\u001b[0m: 'tuple' object does not support item assignment"
     ]
    }
   ],
   "source": [
    "# Tuples are immutable:\n",
    "t[0] = 88888"
   ]
  },
  {
   "cell_type": "markdown",
   "id": "d3dee2b2-30da-42e4-b91b-521c2ef13998",
   "metadata": {},
   "source": [
    "However, if the elements are mutable data structures, we can update the element values themselves."
   ]
  },
  {
   "cell_type": "code",
   "execution_count": 74,
   "id": "dba79c9d-bc7f-4332-9c9d-2907225a9cb5",
   "metadata": {},
   "outputs": [
    {
     "name": "stdout",
     "output_type": "stream",
     "text": [
      "([1, 2, 3], [3, 2, 1])\n",
      "([1, 2, 3, 5], [3, 2, 1])\n",
      "()\n"
     ]
    }
   ],
   "source": [
    "v = ([1, 2, 3], [3, 2, 1])\n",
    "print(v)\n",
    "\n",
    "v[0].append(5)\n",
    "print(v)\n",
    "\n",
    "# tuples can be empty -- parenthesis are required\n",
    "emptyT = ()\n",
    "print(emptyT)\n"
   ]
  },
  {
   "cell_type": "markdown",
   "id": "fcb35080-19bc-457a-bab1-5ee14ab7c1cf",
   "metadata": {},
   "source": [
    "Singletons are tuples with just one element. The syntax requires the trailing comma `,`. The parentheses are optional.\n",
    "\n",
    "```\n",
    "one_thing = ('hello',)\n",
    "one_thing = 'hello',\n",
    "```\n",
    "\n",
    "We can unpack the tuples into variables."
   ]
  },
  {
   "cell_type": "code",
   "execution_count": 73,
   "id": "2914415a-b0ae-4c0c-b975-dd4c31284c8f",
   "metadata": {},
   "outputs": [
    {
     "name": "stdout",
     "output_type": "stream",
     "text": [
      "(12345, 54321, 'hello!')\n",
      "12345\n",
      "54321\n",
      "hello!\n"
     ]
    }
   ],
   "source": [
    "print(t)\n",
    "\n",
    "x,y,z = t\n",
    "print(x)\n",
    "print(y)\n",
    "print(z)"
   ]
  },
  {
   "cell_type": "markdown",
   "id": "b878a97c-8bd2-4e27-a6ab-e34517b7ed9d",
   "metadata": {},
   "source": [
    "## Sets\n",
    "A set is a collection with no ordering and does not allow duplicate elements.\n",
    "\n",
    "### Construction and access\n",
    "The construction of set is done with the curly braces."
   ]
  },
  {
   "cell_type": "code",
   "execution_count": 75,
   "id": "21c17efc-b598-4005-aeb1-b847f60aceda",
   "metadata": {},
   "outputs": [
    {
     "name": "stdout",
     "output_type": "stream",
     "text": [
      "{'banana', 'orange', 'pear', 'apple'}\n"
     ]
    }
   ],
   "source": [
    "basket = {'apple', 'orange', 'apple', 'pear', 'orange', 'banana'}\n",
    "print(basket)                      # show that duplicates have been removed"
   ]
  },
  {
   "cell_type": "code",
   "execution_count": 76,
   "id": "e8636ab9-85e0-479f-be11-4a82dfdcb348",
   "metadata": {},
   "outputs": [
    {
     "data": {
      "text/plain": [
       "True"
      ]
     },
     "execution_count": 76,
     "metadata": {},
     "output_type": "execute_result"
    }
   ],
   "source": [
    "'orange' in basket                 # fast membership testing using the in operator"
   ]
  },
  {
   "cell_type": "code",
   "execution_count": 78,
   "id": "0b39df64-2d05-4e2c-adc0-b376e9239274",
   "metadata": {},
   "outputs": [
    {
     "data": {
      "text/plain": [
       "True"
      ]
     },
     "execution_count": 78,
     "metadata": {},
     "output_type": "execute_result"
    }
   ],
   "source": [
    "'pineapple' not in basket"
   ]
  },
  {
   "cell_type": "markdown",
   "id": "2f04384a-1cf5-4755-96d8-f1465b70c5cc",
   "metadata": {},
   "source": [
    "The `set(...)` function converts a sequence into a set by removing any duplicates."
   ]
  },
  {
   "cell_type": "code",
   "execution_count": 80,
   "id": "69aa5db3-8bc6-4f21-9b1a-a39208d1087a",
   "metadata": {},
   "outputs": [
    {
     "name": "stdout",
     "output_type": "stream",
     "text": [
      "{'z', 'a', 'm', 'l', 'c'}\n"
     ]
    }
   ],
   "source": [
    "# set operations on unique letters from 2 words\n",
    "a = set('abracadabra')\n",
    "b = set('alacazam')\n",
    "print(a) # unique letters in a"
   ]
  },
  {
   "cell_type": "markdown",
   "id": "6efa535b-164f-43d3-835a-54ad817319de",
   "metadata": {},
   "source": [
    "Set arithmetics are:\n",
    "\n",
    "- set difference\n",
    "- set union\n",
    "- set intersection\n",
    "- set exclusive-union (xor)"
   ]
  },
  {
   "cell_type": "code",
   "execution_count": 81,
   "id": "e39fc714-bef7-4da3-9734-526411cef4fb",
   "metadata": {},
   "outputs": [
    {
     "data": {
      "text/plain": [
       "{'b', 'd', 'r'}"
      ]
     },
     "execution_count": 81,
     "metadata": {},
     "output_type": "execute_result"
    }
   ],
   "source": [
    "a - b                              # letters in a but not in b"
   ]
  },
  {
   "cell_type": "code",
   "execution_count": 82,
   "id": "ca1f3e3d-9f4f-4811-88dc-8ec71f2b01fe",
   "metadata": {},
   "outputs": [
    {
     "data": {
      "text/plain": [
       "{'a', 'b', 'c', 'd', 'l', 'm', 'r', 'z'}"
      ]
     },
     "execution_count": 82,
     "metadata": {},
     "output_type": "execute_result"
    }
   ],
   "source": [
    "a | b                              # letters in a or b or both"
   ]
  },
  {
   "cell_type": "code",
   "execution_count": 83,
   "id": "b33dee7e-b77b-47af-8459-c39614c3548b",
   "metadata": {},
   "outputs": [
    {
     "data": {
      "text/plain": [
       "{'a', 'c'}"
      ]
     },
     "execution_count": 83,
     "metadata": {},
     "output_type": "execute_result"
    }
   ],
   "source": [
    "a & b                              # letters in both a and b"
   ]
  },
  {
   "cell_type": "code",
   "execution_count": 84,
   "id": "237cb1fb-3dd0-49a3-ac5c-2058adf5b7f9",
   "metadata": {},
   "outputs": [
    {
     "data": {
      "text/plain": [
       "{'b', 'd', 'l', 'm', 'r', 'z'}"
      ]
     },
     "execution_count": 84,
     "metadata": {},
     "output_type": "execute_result"
    }
   ],
   "source": [
    "a ^ b                              # letters in a or b but not both"
   ]
  },
  {
   "cell_type": "markdown",
   "id": "475a3c20-1870-46ca-8b9f-947cd67f6a0e",
   "metadata": {},
   "source": [
    "## Dictionaries\n",
    "\n",
    "Dictionary is one of the most important data type in Python. Unlike lists, the elements are indexed by arbitrary (immutable) values.\n",
    "\n",
    "**Definition**\n",
    "\n",
    "- Indexing values are the keys in the dictionary.\n",
    "- The indexed elements are the values in the dictionary.\n",
    "All keys must be unique, but not the values.\n",
    "\n",
    "**Construction**\n",
    "\n",
    "Construction using `{ key:val, ...}`\n",
    "```\n",
    "tel = {'jack': 4098, 'sape': 4139}\n",
    "```\n",
    "\n",
    "Construction using the `dict(...)` constructor:\n",
    "```\n",
    "tel = dict(jack=4098, sape=4139)\n",
    "```\n",
    "\n",
    "Construction using `dict(...)` to construct the dictionary from a sequence of key/value pairs.\n",
    "```\n",
    "dict([('sape', 4139), ('guido', 4127), ('jack', 4098)])\n",
    "```"
   ]
  },
  {
   "cell_type": "code",
   "execution_count": 86,
   "id": "952b1f1b-0525-41af-a4d9-02aec7c19d6c",
   "metadata": {},
   "outputs": [
    {
     "name": "stdout",
     "output_type": "stream",
     "text": [
      "{'jack': 4098, 'sape': 4139}\n",
      "4098\n",
      "{'jack': 4098, 'sape': 4139, 'guido': 4127}\n",
      "{'jack': 4098, 'guido': 4127}\n",
      "{'jack': 4098, 'guido': 4127, 'irv': 4127}\n",
      "['jack', 'guido', 'irv']\n",
      "['guido', 'irv', 'jack']\n",
      "True\n",
      "True\n"
     ]
    }
   ],
   "source": [
    "tel = {'jack': 4098, 'sape': 4139}\n",
    "print(tel)\n",
    "\n",
    "print(tel['jack'])     # retrieve the value of a given key\n",
    "\n",
    "tel['guido'] = 4127    #create new key/value pairs in the dictionary\n",
    "print(tel)\n",
    "\n",
    "del tel['sape'] # delete a key and its value.\n",
    "print(tel)\n",
    "tel['irv'] = 4127\n",
    "print(tel)\n",
    "\n",
    "#interprete a dictionary as a list, we get the list of keys.\n",
    "print(list(tel)) \n",
    "print(sorted(tel))\n",
    "\n",
    "# check if a key exists in a dictionary using the in operator.\n",
    "print('guido' in tel)\n",
    "print('jack'  in tel)"
   ]
  },
  {
   "cell_type": "markdown",
   "id": "8516a757-5af3-464a-a0bd-f3f40a73c825",
   "metadata": {},
   "source": [
    "We can get a sequence of key/value pairs (as tuples) using the `.items()` method."
   ]
  },
  {
   "cell_type": "code",
   "execution_count": 87,
   "id": "c678328b-9ab4-4517-9e40-713df2221d9e",
   "metadata": {},
   "outputs": [
    {
     "name": "stdout",
     "output_type": "stream",
     "text": [
      "jack: 4098\n",
      "guido: 4127\n",
      "irv: 4127\n"
     ]
    }
   ],
   "source": [
    "for (name, number) in tel.items():\n",
    "    print(\"%s: %s\" % (name, number))"
   ]
  },
  {
   "cell_type": "code",
   "execution_count": null,
   "id": "434825aa-402c-4b66-8f39-4323856bb218",
   "metadata": {},
   "outputs": [],
   "source": []
  }
 ],
 "metadata": {
  "kernelspec": {
   "display_name": "Python 3 (ipykernel)",
   "language": "python",
   "name": "python3"
  },
  "language_info": {
   "codemirror_mode": {
    "name": "ipython",
    "version": 3
   },
   "file_extension": ".py",
   "mimetype": "text/x-python",
   "name": "python",
   "nbconvert_exporter": "python",
   "pygments_lexer": "ipython3",
   "version": "3.8.12"
  }
 },
 "nbformat": 4,
 "nbformat_minor": 5
}

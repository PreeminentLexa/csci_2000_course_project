{
 "cells": [
  {
   "cell_type": "markdown",
   "id": "1b8781f6-19d7-408c-b2c0-7097cd0d1e37",
   "metadata": {},
   "source": [
    "# Module 3 - Python\n",
    "## Reduce\n",
    "\n",
    "\n",
    "A common pattern is to update some state value during the iteration of a list.\n",
    "```\n",
    "xs = [1,2,3,4,5]\n",
    "total = 0\n",
    "for x in xs:\n",
    "    total = total + x\n",
    "```\n",
    "\n",
    "This is known as the reduce pattern, in which the list xs is reduced to total.\n",
    "\n",
    "This can be visualized as follows:"
   ]
  },
  {
   "cell_type": "raw",
   "id": "adac6314-e0f2-4f0b-ac0f-35991408a2d2",
   "metadata": {},
   "source": [
    "    0    +   1   +   2   +   3 ...\n",
    "   ---  ---  ---------------------\n",
    "    |    |          |\n",
    "    |    |          |\n",
    "    |    |          +---- the sequence of elements\n",
    "    |    | \n",
    "initial  +--- state update function\n",
    "value         (known as the reducer)"
   ]
  },
  {
   "cell_type": "markdown",
   "id": "48734857-c35a-44e9-bac9-6625e55f4c42",
   "metadata": {},
   "source": [
    "So, the reduce pattern can be completely characterized by:\n",
    "\n",
    "- the initial value of the state\n",
    "- the reducer function\n",
    "- the sequence of elements to be reduced.\n",
    "\n",
    "Python provides a higher order function `functools.reduce` to perform reduce."
   ]
  },
  {
   "cell_type": "code",
   "execution_count": 2,
   "id": "1e98877a-dd03-4e75-bb3a-e703025d3594",
   "metadata": {},
   "outputs": [
    {
     "data": {
      "text/plain": [
       "15"
      ]
     },
     "execution_count": 2,
     "metadata": {},
     "output_type": "execute_result"
    }
   ],
   "source": [
    "from functools import reduce\n",
    "\n",
    "def reduce_fn(x, y):\n",
    "    return x + y\n",
    "\n",
    "total = reduce(reduce_fn, [1,2,3,4,5], 0)\n",
    "total"
   ]
  },
  {
   "cell_type": "markdown",
   "id": "15d06ebc-9869-402f-8517-5bea342bd3c7",
   "metadata": {},
   "source": [
    "Reduce without initial state value\n",
    "\n",
    "Sometimes, we don't need to explicitly provide the initial state value as the first element in the sequence can be used as the initial state value."
   ]
  },
  {
   "cell_type": "markdown",
   "id": "00d43adc-3b79-4cc0-8967-4549c62dbe31",
   "metadata": {},
   "source": [
    "The initial value for `functools.reduce` is optional."
   ]
  },
  {
   "cell_type": "code",
   "execution_count": 4,
   "id": "b269f155-8c02-41c7-af14-e67daef2ee22",
   "metadata": {},
   "outputs": [
    {
     "data": {
      "text/plain": [
       "15"
      ]
     },
     "execution_count": 4,
     "metadata": {},
     "output_type": "execute_result"
    }
   ],
   "source": [
    "from functools import reduce\n",
    "\n",
    "def reduce_fn(x, y):\n",
    "    return x + y\n",
    "\n",
    "total = reduce(reduce_fn, [1,2,3,4,5])\n",
    "total"
   ]
  },
  {
   "cell_type": "raw",
   "id": "4fda45d4-cc79-475a-a6c1-765f60c4d5c7",
   "metadata": {},
   "source": [
    "     1    +   2   +   3   +   4 ...\n",
    "    ---  ---          \n",
    "    -|----|------------------------\n",
    "     |    |          |\n",
    "     |    |          |\n",
    "     |    |          +---- the sequence of elements\n",
    "     |    | \n",
    " initial  +--- reducer\n",
    " value         \n"
   ]
  },
  {
   "cell_type": "markdown",
   "id": "f267bd30-3b61-4441-92aa-453d628a5c81",
   "metadata": {},
   "source": [
    "### More advanced reducers\n",
    "\n",
    "We can compute the sum of all positive elements in a list of numbers.\n",
    "```\n",
    "xs = [1, -1, 3, 2, -2, -10, 1]\n",
    "total = 0\n",
    "for x in xs:\n",
    "    if x > 0:\n",
    "        total += x\n",
    "```\n"
   ]
  },
  {
   "cell_type": "code",
   "execution_count": 5,
   "id": "7bfa2e99-f617-4c33-a6d1-537adc524375",
   "metadata": {},
   "outputs": [
    {
     "data": {
      "text/plain": [
       "7"
      ]
     },
     "execution_count": 5,
     "metadata": {},
     "output_type": "execute_result"
    }
   ],
   "source": [
    "def f(state, x):\n",
    "    return (state + x) if x > 0 else state\n",
    "\n",
    "xs = [1, -1, 3, 2, -2, -10, 1]\n",
    "reduce(f, xs)"
   ]
  },
  {
   "cell_type": "markdown",
   "id": "b0e38acd-7a78-4c5d-8e0e-8a88993beed8",
   "metadata": {},
   "source": [
    "We can compute the maximum value of a list of numbers."
   ]
  },
  {
   "cell_type": "code",
   "execution_count": 6,
   "id": "e2034261-56fc-4fc1-a773-75a4bf7c6b0e",
   "metadata": {},
   "outputs": [
    {
     "data": {
      "text/plain": [
       "3"
      ]
     },
     "execution_count": 6,
     "metadata": {},
     "output_type": "execute_result"
    }
   ],
   "source": [
    "xs = [1, -1, 3, 2, -2, -10, 1]\n",
    "reduce(max, xs)"
   ]
  },
  {
   "cell_type": "markdown",
   "id": "0e552a1f-dfd5-4484-a770-60211fd94e89",
   "metadata": {},
   "source": [
    "## More advanced state data structure\n",
    "\n",
    "Suppose that we are working with a list of dictionaries."
   ]
  },
  {
   "cell_type": "code",
   "execution_count": 11,
   "id": "b2b6c3d4-bca2-4be2-b334-359dca2b2eb3",
   "metadata": {},
   "outputs": [
    {
     "data": {
      "text/plain": [
       "[{'name': 'Jack', 'age': 20, 'grade': 90},\n",
       " {'name': 'Jill', 'age': 18, 'grade': 89},\n",
       " {'name': 'Joe', 'age': 19, 'grade': 83}]"
      ]
     },
     "execution_count": 11,
     "metadata": {},
     "output_type": "execute_result"
    }
   ],
   "source": [
    "students = [\n",
    "    {\"name\": \"Jack\", \"age\": 20, \"grade\": 90},\n",
    "    {\"name\": \"Jill\", \"age\": 18, \"grade\": 89},\n",
    "    {\"name\": \"Joe\", \"age\": 19, \"grade\": 83}\n",
    "]\n",
    "students"
   ]
  },
  {
   "cell_type": "markdown",
   "id": "5d31da63-4073-4065-940d-3a3b2f70a436",
   "metadata": {},
   "source": [
    "We might want to get the age range:\n",
    "```\n",
    "{\n",
    "    min_age: 18,\n",
    "    max_age: 20\n",
    "}\n",
    "```\n",
    "\n",
    "We need to design the reducer function:"
   ]
  },
  {
   "cell_type": "code",
   "execution_count": 9,
   "id": "ef122b68-5ae6-4c66-a9e8-e57f06a40838",
   "metadata": {},
   "outputs": [
    {
     "data": {
      "text/plain": [
       "{'min_age': 18, 'max_age': 20}"
      ]
     },
     "execution_count": 9,
     "metadata": {},
     "output_type": "execute_result"
    }
   ],
   "source": [
    "def f(state, student):\n",
    "    if state is None:\n",
    "        state = {\n",
    "            'min_age': student['age'],\n",
    "            'max_age': student['age']\n",
    "        }\n",
    "    else:\n",
    "        state['min_age'] = min(state['min_age'], student['age'])\n",
    "        state['max_age'] = max(state['max_age'], student['age'])\n",
    "    return state\n",
    "\n",
    "reduce(f, students, None)"
   ]
  }
 ],
 "metadata": {
  "kernelspec": {
   "display_name": "Python 3 (ipykernel)",
   "language": "python",
   "name": "python3"
  },
  "language_info": {
   "codemirror_mode": {
    "name": "ipython",
    "version": 3
   },
   "file_extension": ".py",
   "mimetype": "text/x-python",
   "name": "python",
   "nbconvert_exporter": "python",
   "pygments_lexer": "ipython3",
   "version": "3.8.12"
  }
 },
 "nbformat": 4,
 "nbformat_minor": 5
}

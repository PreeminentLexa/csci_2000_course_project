{
 "cells": [
  {
   "cell_type": "markdown",
   "id": "6747ce0f-0c33-4bbe-a499-6bccf2936ab2",
   "metadata": {},
   "source": [
    "# Module 3 - Python\n",
    "\n",
    "## Functional Programming in Python\n",
    "\n",
    "- Python supports functional programming, a programming paradigm in which functions can be values to be passed between functions.\n",
    "\n",
    "- Having functions as values create new patterns in programming.\n",
    "\n",
    "### Functions As Values\n",
    "When a function is declared, the function name is actually a variable that refers to the function object."
   ]
  },
  {
   "cell_type": "code",
   "execution_count": 31,
   "id": "c33d40ff-787e-4c07-abbe-2b4134abe370",
   "metadata": {},
   "outputs": [
    {
     "name": "stdout",
     "output_type": "stream",
     "text": [
      "Hello world.\n",
      "Hello world.\n"
     ]
    }
   ],
   "source": [
    "# Define a function\n",
    "def hello():\n",
    "    print(\"Hello world.\")\n",
    "\n",
    "# The function can be treated as a data value\n",
    "x = hello\n",
    "y = x\n",
    "\n",
    "# Variables assigned to functions can\n",
    "# be used as functions themselves\n",
    "x() # -> Hello world.\n",
    "y() # -> Hello world."
   ]
  },
  {
   "cell_type": "markdown",
   "id": "10dd0b63-20af-4c08-963e-ecb4c918dfc4",
   "metadata": {},
   "source": [
    "Functions can be the return values of functions."
   ]
  },
  {
   "cell_type": "code",
   "execution_count": 52,
   "id": "0334ff39-9854-4906-bf85-4952594e8ae1",
   "metadata": {},
   "outputs": [
    {
     "data": {
      "text/plain": [
       "15"
      ]
     },
     "execution_count": 52,
     "metadata": {},
     "output_type": "execute_result"
    }
   ],
   "source": [
    "# This main function returns a function.  \n",
    "# The returned function is constructed based\n",
    "# on the argument(s) of the main function.\n",
    "def make_adder_fn(increment):\n",
    "    def f(x):\n",
    "        return x + increment\n",
    "    return f\n",
    "\n",
    "x = make_adder_fn(5)\n",
    "x(10)"
   ]
  },
  {
   "cell_type": "markdown",
   "id": "6e1f682d-7bd0-498b-a581-a367fcd27130",
   "metadata": {},
   "source": [
    "Functions can be parameters of functions."
   ]
  },
  {
   "cell_type": "code",
   "execution_count": 50,
   "id": "8e582231-b6be-41be-8388-d58db1a54b02",
   "metadata": {},
   "outputs": [
    {
     "data": {
      "text/plain": [
       "15"
      ]
     },
     "execution_count": 50,
     "metadata": {},
     "output_type": "execute_result"
    }
   ],
   "source": [
    "# This function expects a function as its first\n",
    "# argument, and a number as a second argument.\n",
    "# The main function applies the argument function\n",
    "# twice to the second argument.\n",
    "def apply_twice(f, x):\n",
    "    return f(f(x))\n",
    "\n",
    "y = apply_twice(x, 5)\n",
    "y"
   ]
  },
  {
   "cell_type": "markdown",
   "id": "ad1c433e-f6bc-4e53-9110-d430e0857bc1",
   "metadata": {},
   "source": [
    "**Definition:**\n",
    "\n",
    "A *higher order function* is a function that accepts another function as an input.\n",
    "\n",
    "- anonymous functions"
   ]
  },
  {
   "cell_type": "code",
   "execution_count": 53,
   "id": "0bf300de-f26e-4874-b185-aa2b10c940c0",
   "metadata": {},
   "outputs": [
    {
     "data": {
      "text/plain": [
       "4"
      ]
     },
     "execution_count": 53,
     "metadata": {},
     "output_type": "execute_result"
    }
   ],
   "source": [
    "add = lambda x,y: x + y\n",
    "add(2,2)"
   ]
  },
  {
   "cell_type": "markdown",
   "id": "9a81e922-78e1-4aa7-ba7d-02c36f3d1eb4",
   "metadata": {},
   "source": [
    "## Map: a higher-order function for iteration\n",
    "\n",
    "`map` is a built-in function that accepts two arguments:\n",
    "```\n",
    "map(<function>, <iterable>)\n",
    "```\n",
    "Simple iteration over a list:"
   ]
  },
  {
   "cell_type": "code",
   "execution_count": 15,
   "id": "b976c231-d47c-42fb-9d9a-704abc23b55b",
   "metadata": {},
   "outputs": [
    {
     "name": "stdout",
     "output_type": "stream",
     "text": [
      "[3, -3, 7, -7]\n"
     ]
    }
   ],
   "source": [
    "xs = [1, -2, 3, -4]\n",
    "ys = []\n",
    "\n",
    "for x in xs:\n",
    "    ys.append(2*x + 1)\n",
    "\n",
    "print(ys) # -> [3, -3, 7, -7]"
   ]
  },
  {
   "cell_type": "markdown",
   "id": "53c1efe3-cd2e-45a0-bef3-e3d4eb3633e9",
   "metadata": {},
   "source": [
    "**The for-loop is especially simple (and common):**\n",
    "\n",
    "1. A new list is constructed.\n",
    "2. Each x produces a corresponding y.\n",
    "\n",
    "=> This is a map-pattern.\n",
    "\n",
    "**Functional abstraction:**\n",
    "\n",
    "1. Define the computation as a function:\n",
    "```\n",
    "def f(x):\n",
    "    return 2*x + 1\n",
    "    ```\n",
    "2. Apply the computation to list, element-by-element:\n",
    "```\n",
    "ys = map(f, xs)\n",
    "```\n",
    "3. Even more succinctly, we can use lambda functions in conjunction with map:\n",
    "```\n",
    "ys = map(lambda x: 2*x+1, xs)\n",
    "```\n",
    "\n",
    "**Map is limited.** It cannot express the following computations:\n",
    "```\n",
    "xs = [1, -2, 3, -4]\n",
    "ys = []\n",
    "for x in xs:\n",
    "    if x > 0:\n",
    "        ys.append(2*x+1)\n",
    "```\n",
    "        \n",
    "Note that the output elements do not correspond to the input elements one-to-one since we only apply computation to positive elements.\n",
    "\n",
    "```\n",
    "xs = [1, -2, 3, -4]\n",
    "total = 0\n",
    "for x in xs:\n",
    "    total += x\n",
    "```\n",
    "\n",
    "Note the output is a single value, not a list.\n",
    "\n",
    "We need other functional constructs to express these types of iteration.\n",
    "\n",
    "**Map is lazy.**\n",
    "\n",
    "Map returns a lazy iterable: the iterable contains the results: $f(x_1)$, $f(x_2)$, ..., but each computation $f(x_i)$ is evaluated *only when* it is needed.\n",
    "\n",
    "\n"
   ]
  },
  {
   "cell_type": "code",
   "execution_count": 54,
   "id": "388905fc-fbee-4124-8aff-252338957f89",
   "metadata": {},
   "outputs": [
    {
     "name": "stdout",
     "output_type": "stream",
     "text": [
      "<map object at 0x7fb8d02b7c40>\n",
      "[2, 3, 4]\n"
     ]
    }
   ],
   "source": [
    "print(map(lambda x: x+1, [1,2,3]))\n",
    "#=> <map at 0x1110e0510>\n",
    "\n",
    "print(list(map(lambda x: x+1, [1,2,3])))\n",
    "#=> [2,3,4]"
   ]
  },
  {
   "cell_type": "markdown",
   "id": "944350f4-c395-447c-a4b8-d618b3b33d5f",
   "metadata": {},
   "source": [
    "## Filter\n",
    "\n",
    "`filter` is a higher-order function that keeps certain elements in an input sequence of elements.\n",
    "```\n",
    "filter(<predicate>, <iterable>)\n",
    "```\n",
    "\n",
    "Predicate functions:\n",
    "\n",
    "Any function that returns a boolean is a predicate function.\n",
    "```\n",
    "def is_even(x):\n",
    "  return x % 2 == 0\n",
    "```\n",
    "\n",
    "**True and False in Python**\n",
    "\n",
    "Python has two boolean values `True` and `False`, but data values in general are interpreted as boolean as well.\n",
    "\n",
    "| data values | boolean interpretation |\n",
    "|-------------|------------------------|\n",
    "| None        | False                  |\n",
    "| \"Hello\"     | True                   |\n",
    "| \"\"          | False                  |\n",
    "| 3.1415      | True                   |\n",
    "| 0           | False                  |\n",
    "| {\"age\": 40} | True                   |\n",
    "| {}          | False                  |\n",
    "| [1,2,3]     | True                   |\n",
    "| []          | False                  |\n",
    "\n",
    "One can use the bool(...) function to check:\n",
    "```\n",
    "bool(value)\n",
    "```\n",
    "\n",
    "**Filter makes use of predicates to *keep* certain elements:**"
   ]
  },
  {
   "cell_type": "code",
   "execution_count": 55,
   "id": "732924bc-3768-487a-95e7-1d3dd900b5ee",
   "metadata": {},
   "outputs": [
    {
     "data": {
      "text/plain": [
       "[3, 6, 9]"
      ]
     },
     "execution_count": 55,
     "metadata": {},
     "output_type": "execute_result"
    }
   ],
   "source": [
    "# tests if a number is divisible by 3\n",
    "def is_divisible_by_3(n):\n",
    "    return n % 3 == 0\n",
    "\n",
    "# filter is lazy like map\n",
    "list(filter(is_divisible_by_3, [1,2,3,4,5,6,7,8,9]))"
   ]
  },
  {
   "cell_type": "markdown",
   "id": "fa96e472-8a89-4900-82c0-4946a49f0255",
   "metadata": {},
   "source": [
    "This can also de done using a lambda function:"
   ]
  },
  {
   "cell_type": "code",
   "execution_count": 19,
   "id": "eaf3de34-b5ab-418c-bfe7-b40bee1989e0",
   "metadata": {},
   "outputs": [
    {
     "data": {
      "text/plain": [
       "[3, 6, 9]"
      ]
     },
     "execution_count": 19,
     "metadata": {},
     "output_type": "execute_result"
    }
   ],
   "source": [
    "list(filter(lambda i: i % 3 == 0, [1,2,3,4,5,6,7,8,9]))"
   ]
  },
  {
   "cell_type": "markdown",
   "id": "fd8279d9-f9e0-4fb7-a17f-008f545fe4f2",
   "metadata": {},
   "source": [
    "## List Comprehension\n",
    "\n",
    "Consider the following iteration pattern:"
   ]
  },
  {
   "cell_type": "code",
   "execution_count": 21,
   "id": "cfe1e790-122d-4041-bc0c-a8302cac5d17",
   "metadata": {},
   "outputs": [
    {
     "name": "stdout",
     "output_type": "stream",
     "text": [
      "[9, 36]\n"
     ]
    }
   ],
   "source": [
    "xs = [1,2,3,4,5,6,7]\n",
    "result = []\n",
    "for x in xs:\n",
    "    if x % 3 == 0:\n",
    "        result.append(x ** 2)\n",
    "print(result)        "
   ]
  },
  {
   "cell_type": "markdown",
   "id": "a99d81ce-ec3e-410c-b4e5-06608c55b29b",
   "metadata": {},
   "source": [
    "This is a combination of `map` and `filter`:"
   ]
  },
  {
   "cell_type": "code",
   "execution_count": 24,
   "id": "6a550bc0-ab08-40a8-a055-652be1551e51",
   "metadata": {},
   "outputs": [
    {
     "name": "stdout",
     "output_type": "stream",
     "text": [
      "[9, 36]\n"
     ]
    }
   ],
   "source": [
    "xs = [1,2,3,4,5,6,7]\n",
    "result = map(lambda x: x ** 2, filter(lambda x: x%3 == 0, xs))\n",
    "print(list(result))"
   ]
  },
  {
   "cell_type": "markdown",
   "id": "1b072a7c-9d16-4a06-889a-1016d362bf9b",
   "metadata": {},
   "source": [
    "*List comprehension* is more readable syntax for filter/map pattern.\n",
    "\n",
    "The general syntax is:\n",
    "```\n",
    "[ <expression> for <var> in <iterable> if <condition> ]\n",
    "```\n",
    "\n",
    "Applying list comprehension:"
   ]
  },
  {
   "cell_type": "code",
   "execution_count": 26,
   "id": "9a0e7f89-da08-48c9-ab5c-003b808e374c",
   "metadata": {},
   "outputs": [
    {
     "name": "stdout",
     "output_type": "stream",
     "text": [
      "[9, 36]\n"
     ]
    }
   ],
   "source": [
    "xs = [1,2,3,4,5,6,7]\n",
    "result = [x ** 2 for x in xs if x % 3 == 0]\n",
    "print(result)"
   ]
  },
  {
   "cell_type": "markdown",
   "id": "b9eeea2a-b81d-4865-a295-86bb732ea271",
   "metadata": {},
   "source": [
    "#### Nested list comprehension\n",
    "Consider the following problem:\n",
    "\n",
    "What are all the integer solutions to $3x - y^2 = 0$ for $x, y \\in [0,100]$\n",
    "\n",
    "A simple nested loop solution"
   ]
  },
  {
   "cell_type": "code",
   "execution_count": 28,
   "id": "14835e40-e1be-4798-87ba-0eede4979d5d",
   "metadata": {},
   "outputs": [
    {
     "name": "stdout",
     "output_type": "stream",
     "text": [
      "[(0, 0), (3, 3), (12, 6), (27, 9), (48, 12), (75, 15)]\n"
     ]
    }
   ],
   "source": [
    "solutions = []\n",
    "for x in range(100):\n",
    "    for y in range(100):\n",
    "        if 3*x - y*y == 0:\n",
    "            solutions.append((x, y))\n",
    "print(solutions)"
   ]
  },
  {
   "cell_type": "markdown",
   "id": "df30a818-5c78-4631-a3e8-db9c976b069c",
   "metadata": {},
   "source": [
    "List comprehension solution:"
   ]
  },
  {
   "cell_type": "code",
   "execution_count": 30,
   "id": "5339ee44-066e-4662-aa6e-64499a58c48a",
   "metadata": {},
   "outputs": [
    {
     "name": "stdout",
     "output_type": "stream",
     "text": [
      "[(0, 0), (3, 3), (12, 6), (27, 9), (48, 12), (75, 15)]\n"
     ]
    }
   ],
   "source": [
    "solutions = [(x, y) for x in range(100) for y in range(100) if 3*x-y*y == 0]\n",
    "print(solutions)"
   ]
  }
 ],
 "metadata": {
  "kernelspec": {
   "display_name": "Python 3 (ipykernel)",
   "language": "python",
   "name": "python3"
  },
  "language_info": {
   "codemirror_mode": {
    "name": "ipython",
    "version": 3
   },
   "file_extension": ".py",
   "mimetype": "text/x-python",
   "name": "python",
   "nbconvert_exporter": "python",
   "pygments_lexer": "ipython3",
   "version": "3.8.12"
  }
 },
 "nbformat": 4,
 "nbformat_minor": 5
}

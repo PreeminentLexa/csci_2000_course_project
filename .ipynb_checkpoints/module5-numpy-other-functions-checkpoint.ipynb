{
 "cells": [
  {
   "cell_type": "markdown",
   "id": "96c5bc0b-660d-46a0-9bb0-a11165bea757",
   "metadata": {
    "tags": []
   },
   "source": [
    "# Module 5 - Numerical Python II\n",
    "\n",
    "\n",
    "NumPy is a library for the Python programming language, adding support for large, multi-dimensional arrays and matrices, along with a large collection of high-level mathematical functions to operate on these arrays (source: https://en.wikipedia.org/wiki/NumPy).\n",
    "\n",
    "Numpy is a Python library, so it comes as a collection of Python modules.\n",
    "- More about numpy: https://www.w3schools.com/python/numpy/default.asp\n",
    "\n"
   ]
  },
  {
   "cell_type": "code",
   "execution_count": 1,
   "id": "0b60fa19-c959-4dee-a1c7-7bb3adbee610",
   "metadata": {},
   "outputs": [],
   "source": [
    "import numpy as np\n",
    "np.set_printoptions(precision=2)"
   ]
  },
  {
   "cell_type": "markdown",
   "id": "08b30df6-46b7-4ee2-908c-2c58e188aeb6",
   "metadata": {},
   "source": [
    "## Other - Selected Nympy Functions\n",
    "\n",
    "### Sorting"
   ]
  },
  {
   "cell_type": "code",
   "execution_count": 2,
   "id": "c4b89d7b-33f4-4113-83a6-b3d15ff89038",
   "metadata": {},
   "outputs": [
    {
     "data": {
      "text/plain": [
       "array([[0.9 , 0.  , 0.01, 0.2 ],\n",
       "       [0.35, 0.52, 0.53, 0.4 ],\n",
       "       [0.36, 0.01, 0.2 , 0.27],\n",
       "       [0.07, 0.02, 0.74, 0.52],\n",
       "       [0.61, 0.67, 0.48, 0.22],\n",
       "       [0.48, 0.26, 1.  , 0.77],\n",
       "       [0.22, 0.98, 0.73, 0.17],\n",
       "       [0.58, 0.71, 0.9 , 0.16],\n",
       "       [0.08, 0.17, 0.29, 0.32],\n",
       "       [0.39, 0.01, 0.07, 0.64]])"
      ]
     },
     "execution_count": 2,
     "metadata": {},
     "output_type": "execute_result"
    }
   ],
   "source": [
    "#\n",
    "# Suppose we have a ndarray\n",
    "#\n",
    "data = np.random.rand(10, 4)\n",
    "data"
   ]
  },
  {
   "cell_type": "markdown",
   "id": "87b38a2a-1ab2-4b6d-b795-0aaab9b0b5be",
   "metadata": {},
   "source": [
    "- We can sort the data "
   ]
  },
  {
   "cell_type": "code",
   "execution_count": 3,
   "id": "c931334d-962f-4528-a58d-5a5b4647c027",
   "metadata": {},
   "outputs": [
    {
     "data": {
      "text/plain": [
       "array([[0.  , 0.01, 0.2 , 0.9 ],\n",
       "       [0.35, 0.4 , 0.52, 0.53],\n",
       "       [0.01, 0.2 , 0.27, 0.36],\n",
       "       [0.02, 0.07, 0.52, 0.74],\n",
       "       [0.22, 0.48, 0.61, 0.67],\n",
       "       [0.26, 0.48, 0.77, 1.  ],\n",
       "       [0.17, 0.22, 0.73, 0.98],\n",
       "       [0.16, 0.58, 0.71, 0.9 ],\n",
       "       [0.08, 0.17, 0.29, 0.32],\n",
       "       [0.01, 0.07, 0.39, 0.64]])"
      ]
     },
     "execution_count": 3,
     "metadata": {},
     "output_type": "execute_result"
    }
   ],
   "source": [
    "#\n",
    "# Sort each row by sorting along the column axis.\n",
    "# The default sorting axis is the last axis (axis=-1)\n",
    "#\n",
    "np.sort(data)"
   ]
  },
  {
   "cell_type": "code",
   "execution_count": 4,
   "id": "17e54ab9-d8e1-4577-ab8f-91d071f16f07",
   "metadata": {},
   "outputs": [
    {
     "data": {
      "text/plain": [
       "array([[0.07, 0.  , 0.01, 0.16],\n",
       "       [0.08, 0.01, 0.07, 0.17],\n",
       "       [0.22, 0.01, 0.2 , 0.2 ],\n",
       "       [0.35, 0.02, 0.29, 0.22],\n",
       "       [0.36, 0.17, 0.48, 0.27],\n",
       "       [0.39, 0.26, 0.53, 0.32],\n",
       "       [0.48, 0.52, 0.73, 0.4 ],\n",
       "       [0.58, 0.67, 0.74, 0.52],\n",
       "       [0.61, 0.71, 0.9 , 0.64],\n",
       "       [0.9 , 0.98, 1.  , 0.77]])"
      ]
     },
     "execution_count": 4,
     "metadata": {},
     "output_type": "execute_result"
    }
   ],
   "source": [
    "#\n",
    "# Sort each column by sorting along the row axis\n",
    "#\n",
    "np.sort(data, axis=0)"
   ]
  },
  {
   "cell_type": "markdown",
   "id": "93bb31df-885a-478f-87b5-940473ddbe8c",
   "metadata": {},
   "source": [
    "### Argsort\n",
    "\n",
    "- `numpy.argsort` returns the indices of the original ndarray in sorted order."
   ]
  },
  {
   "cell_type": "code",
   "execution_count": 7,
   "id": "83923b13-5b06-4737-ac23-f2ffa99f7941",
   "metadata": {},
   "outputs": [
    {
     "data": {
      "text/plain": [
       "array([[1, 2, 3, 0],\n",
       "       [0, 3, 1, 2],\n",
       "       [1, 2, 3, 0],\n",
       "       [1, 0, 3, 2],\n",
       "       [3, 2, 0, 1],\n",
       "       [1, 0, 3, 2],\n",
       "       [3, 0, 2, 1],\n",
       "       [3, 0, 1, 2],\n",
       "       [0, 1, 2, 3],\n",
       "       [1, 2, 0, 3]])"
      ]
     },
     "execution_count": 7,
     "metadata": {},
     "output_type": "execute_result"
    }
   ],
   "source": [
    "np.argsort(data)"
   ]
  },
  {
   "cell_type": "markdown",
   "id": "88f9666f-5f62-4e22-a38d-a3cb9a53e6ca",
   "metadata": {},
   "source": [
    "- `numpy.argsort` is best used to sort a single axis ndarray. Suppose we want to sort by the **first** column of data, and still keep the rows intact."
   ]
  },
  {
   "cell_type": "code",
   "execution_count": 8,
   "id": "5ecb1fa5-72d3-4917-8573-7a14a07ec677",
   "metadata": {},
   "outputs": [
    {
     "data": {
      "text/plain": [
       "array([0.9 , 0.35, 0.36, 0.07, 0.61, 0.48, 0.22, 0.58, 0.08, 0.39])"
      ]
     },
     "execution_count": 8,
     "metadata": {},
     "output_type": "execute_result"
    }
   ],
   "source": [
    "#\n",
    "# This is the first column\n",
    "#\n",
    "data[:, 0]"
   ]
  },
  {
   "cell_type": "code",
   "execution_count": 9,
   "id": "76528b20-7764-4d47-b584-d3dfc31bf8b5",
   "metadata": {},
   "outputs": [
    {
     "data": {
      "text/plain": [
       "array([3, 8, 6, 1, 2, 9, 5, 7, 4, 0])"
      ]
     },
     "execution_count": 9,
     "metadata": {},
     "output_type": "execute_result"
    }
   ],
   "source": [
    "#\n",
    "# We can sort it, but keep the indice positions\n",
    "#\n",
    "sorted_idx = np.argsort(data[:, 0])\n",
    "sorted_idx"
   ]
  },
  {
   "cell_type": "code",
   "execution_count": 10,
   "id": "27c58c3d-12ff-4799-8a0e-f69dbcad4d84",
   "metadata": {},
   "outputs": [
    {
     "data": {
      "text/plain": [
       "array([[0.07, 0.02, 0.74, 0.52],\n",
       "       [0.08, 0.17, 0.29, 0.32],\n",
       "       [0.22, 0.98, 0.73, 0.17],\n",
       "       [0.35, 0.52, 0.53, 0.4 ],\n",
       "       [0.36, 0.01, 0.2 , 0.27],\n",
       "       [0.39, 0.01, 0.07, 0.64],\n",
       "       [0.48, 0.26, 1.  , 0.77],\n",
       "       [0.58, 0.71, 0.9 , 0.16],\n",
       "       [0.61, 0.67, 0.48, 0.22],\n",
       "       [0.9 , 0.  , 0.01, 0.2 ]])"
      ]
     },
     "execution_count": 10,
     "metadata": {},
     "output_type": "execute_result"
    }
   ],
   "source": [
    "#\n",
    "# Now, we can use `sorted_idx` to rearrange data\n",
    "#\n",
    "data[sorted_idx, :]"
   ]
  },
  {
   "cell_type": "code",
   "execution_count": 11,
   "id": "9dcbe786-4197-42fd-9d3c-1fcc772191f7",
   "metadata": {},
   "outputs": [
    {
     "data": {
      "text/plain": [
       "array([0, 4, 7, 5, 9, 2, 1, 6, 8, 3])"
      ]
     },
     "execution_count": 11,
     "metadata": {},
     "output_type": "execute_result"
    }
   ],
   "source": [
    "#\n",
    "# Let's do reverse sorting.  This can be done by sorting\n",
    "# `-data` instead of `data`.\n",
    "#\n",
    "rev_sorted_idx = np.argsort(-data[:, 0])\n",
    "rev_sorted_idx"
   ]
  },
  {
   "cell_type": "code",
   "execution_count": 12,
   "id": "7d838843-0a63-4e36-9da4-09bc5df81a44",
   "metadata": {},
   "outputs": [
    {
     "data": {
      "text/plain": [
       "array([[0.9 , 0.  , 0.01, 0.2 ],\n",
       "       [0.61, 0.67, 0.48, 0.22],\n",
       "       [0.58, 0.71, 0.9 , 0.16],\n",
       "       [0.48, 0.26, 1.  , 0.77],\n",
       "       [0.39, 0.01, 0.07, 0.64],\n",
       "       [0.36, 0.01, 0.2 , 0.27],\n",
       "       [0.35, 0.52, 0.53, 0.4 ],\n",
       "       [0.22, 0.98, 0.73, 0.17],\n",
       "       [0.08, 0.17, 0.29, 0.32],\n",
       "       [0.07, 0.02, 0.74, 0.52]])"
      ]
     },
     "execution_count": 12,
     "metadata": {},
     "output_type": "execute_result"
    }
   ],
   "source": [
    "#\n",
    "# Rearrange the rows of data according to reversely sorted first column\n",
    "#\n",
    "data[rev_sorted_idx,:]"
   ]
  },
  {
   "cell_type": "markdown",
   "id": "0cd70ab5-1b35-4640-9f4d-4a41da531731",
   "metadata": {},
   "source": [
    "- Check out `numpy.lexsort` which acts like `numpy.argsort` by performs comparison over multiple columns. This is known as **lexicographical sorting**.\n",
    "\n",
    "### Linear Algebra\n",
    "In linear algebra, we are primarily interested in matrices (ndarrays with 2 axes) and vectors (ndarrays with one axis).\n",
    "\n",
    "**Matrix multiplication**"
   ]
  },
  {
   "cell_type": "code",
   "execution_count": 13,
   "id": "4e62b942-9a4a-4271-b878-4237c666a89f",
   "metadata": {},
   "outputs": [
    {
     "data": {
      "text/plain": [
       "array([[ 0,  1,  2,  3],\n",
       "       [ 4,  5,  6,  7],\n",
       "       [ 8,  9, 10, 11]])"
      ]
     },
     "execution_count": 13,
     "metadata": {},
     "output_type": "execute_result"
    }
   ],
   "source": [
    "#\n",
    "# Matrix multiplication\n",
    "#\n",
    "\n",
    "M = np.arange(12).reshape(3,4)\n",
    "M"
   ]
  },
  {
   "cell_type": "code",
   "execution_count": 14,
   "id": "ea7455d3-1363-4b32-9bc1-91204671ea42",
   "metadata": {},
   "outputs": [
    {
     "data": {
      "text/plain": [
       "array([[0.12, 0.75, 0.5 ],\n",
       "       [0.44, 0.27, 0.67]])"
      ]
     },
     "execution_count": 14,
     "metadata": {},
     "output_type": "execute_result"
    }
   ],
   "source": [
    "N = np.random.rand(2, 3)\n",
    "N"
   ]
  },
  {
   "cell_type": "markdown",
   "id": "556c8bcb-564e-4810-a967-64971d6ef36e",
   "metadata": {},
   "source": [
    "-  We can multiple N x M, but not M X N.\n"
   ]
  },
  {
   "cell_type": "code",
   "execution_count": 15,
   "id": "8f93c359-0605-4a5a-9374-65a49b9b4760",
   "metadata": {},
   "outputs": [
    {
     "data": {
      "text/plain": [
       "array([[ 6.99,  8.35,  9.72, 11.09],\n",
       "       [ 6.47,  7.85,  9.22, 10.6 ]])"
      ]
     },
     "execution_count": 15,
     "metadata": {},
     "output_type": "execute_result"
    }
   ],
   "source": [
    "np.dot(N, M)"
   ]
  },
  {
   "cell_type": "code",
   "execution_count": 16,
   "id": "c5bff87b-e474-4953-a72e-d61153f262bb",
   "metadata": {},
   "outputs": [
    {
     "ename": "ValueError",
     "evalue": "shapes (3,4) and (2,3) not aligned: 4 (dim 1) != 2 (dim 0)",
     "output_type": "error",
     "traceback": [
      "\u001b[0;31m---------------------------------------------------------------------------\u001b[0m",
      "\u001b[0;31mValueError\u001b[0m                                Traceback (most recent call last)",
      "\u001b[0;32m/tmp/ipykernel_45/159423242.py\u001b[0m in \u001b[0;36m<module>\u001b[0;34m\u001b[0m\n\u001b[0;32m----> 1\u001b[0;31m \u001b[0mnp\u001b[0m\u001b[0;34m.\u001b[0m\u001b[0mdot\u001b[0m\u001b[0;34m(\u001b[0m\u001b[0mM\u001b[0m\u001b[0;34m,\u001b[0m \u001b[0mN\u001b[0m\u001b[0;34m)\u001b[0m\u001b[0;34m\u001b[0m\u001b[0;34m\u001b[0m\u001b[0m\n\u001b[0m",
      "\u001b[0;32m<__array_function__ internals>\u001b[0m in \u001b[0;36mdot\u001b[0;34m(*args, **kwargs)\u001b[0m\n",
      "\u001b[0;31mValueError\u001b[0m: shapes (3,4) and (2,3) not aligned: 4 (dim 1) != 2 (dim 0)"
     ]
    }
   ],
   "source": [
    "np.dot(M, N)"
   ]
  },
  {
   "cell_type": "markdown",
   "id": "516b958a-e130-4bd7-bfee-b9178bd0b2b5",
   "metadata": {},
   "source": [
    "- Matrix multiplication has a very convenient shorthand in Python. Using the `@` operator"
   ]
  },
  {
   "cell_type": "code",
   "execution_count": 17,
   "id": "f0aede4c-c139-4201-8811-2e1d67231444",
   "metadata": {},
   "outputs": [
    {
     "data": {
      "text/plain": [
       "array([[ 6.99,  8.35,  9.72, 11.09],\n",
       "       [ 6.47,  7.85,  9.22, 10.6 ]])"
      ]
     },
     "execution_count": 17,
     "metadata": {},
     "output_type": "execute_result"
    }
   ],
   "source": [
    "# Use the `@` operator.\n",
    "#\n",
    "N @ M"
   ]
  },
  {
   "cell_type": "code",
   "execution_count": 18,
   "id": "7a319fea-560e-4f61-b38c-d9ce6d49cbf5",
   "metadata": {},
   "outputs": [
    {
     "ename": "ValueError",
     "evalue": "matmul: Input operand 1 has a mismatch in its core dimension 0, with gufunc signature (n?,k),(k,m?)->(n?,m?) (size 2 is different from 4)",
     "output_type": "error",
     "traceback": [
      "\u001b[0;31m---------------------------------------------------------------------------\u001b[0m",
      "\u001b[0;31mValueError\u001b[0m                                Traceback (most recent call last)",
      "\u001b[0;32m/tmp/ipykernel_45/1640465262.py\u001b[0m in \u001b[0;36m<module>\u001b[0;34m\u001b[0m\n\u001b[0;32m----> 1\u001b[0;31m \u001b[0mM\u001b[0m \u001b[0;34m@\u001b[0m \u001b[0mN\u001b[0m\u001b[0;34m\u001b[0m\u001b[0;34m\u001b[0m\u001b[0m\n\u001b[0m",
      "\u001b[0;31mValueError\u001b[0m: matmul: Input operand 1 has a mismatch in its core dimension 0, with gufunc signature (n?,k),(k,m?)->(n?,m?) (size 2 is different from 4)"
     ]
    }
   ],
   "source": [
    "M @ N"
   ]
  },
  {
   "cell_type": "markdown",
   "id": "a66d0b1b-37b9-4096-9279-3ae885d661ee",
   "metadata": {},
   "source": [
    "**Matrix and Vectors**"
   ]
  },
  {
   "cell_type": "code",
   "execution_count": 19,
   "id": "a9e598e0-8457-4dcd-a21e-84c2169745ef",
   "metadata": {},
   "outputs": [
    {
     "data": {
      "text/plain": [
       "array([0.15, 0.19, 0.37, 0.96])"
      ]
     },
     "execution_count": 19,
     "metadata": {},
     "output_type": "execute_result"
    }
   ],
   "source": [
    "v = np.random.rand(4)\n",
    "v"
   ]
  },
  {
   "cell_type": "code",
   "execution_count": 20,
   "id": "f8015f7a-fa72-48bb-8033-08c0a6a69743",
   "metadata": {},
   "outputs": [
    {
     "data": {
      "text/plain": [
       "array([ 3.83, 10.56, 17.28])"
      ]
     },
     "execution_count": 20,
     "metadata": {},
     "output_type": "execute_result"
    }
   ],
   "source": [
    "M @ v"
   ]
  },
  {
   "cell_type": "code",
   "execution_count": 21,
   "id": "db085dfd-4bea-4036-9d42-cabf4a1e8eb5",
   "metadata": {},
   "outputs": [
    {
     "ename": "ValueError",
     "evalue": "matmul: Input operand 1 has a mismatch in its core dimension 0, with gufunc signature (n?,k),(k,m?)->(n?,m?) (size 4 is different from 3)",
     "output_type": "error",
     "traceback": [
      "\u001b[0;31m---------------------------------------------------------------------------\u001b[0m",
      "\u001b[0;31mValueError\u001b[0m                                Traceback (most recent call last)",
      "\u001b[0;32m/tmp/ipykernel_45/3603423081.py\u001b[0m in \u001b[0;36m<module>\u001b[0;34m\u001b[0m\n\u001b[0;32m----> 1\u001b[0;31m \u001b[0mN\u001b[0m \u001b[0;34m@\u001b[0m \u001b[0mv\u001b[0m\u001b[0;34m\u001b[0m\u001b[0;34m\u001b[0m\u001b[0m\n\u001b[0m",
      "\u001b[0;31mValueError\u001b[0m: matmul: Input operand 1 has a mismatch in its core dimension 0, with gufunc signature (n?,k),(k,m?)->(n?,m?) (size 4 is different from 3)"
     ]
    }
   ],
   "source": [
    "N @ v"
   ]
  },
  {
   "cell_type": "markdown",
   "id": "a02ad6dd-1580-4759-8be2-797ccc17071b",
   "metadata": {},
   "source": [
    "- Dot product between two vectors of the same length is defined as:\n",
    "\n",
    "    $u \\cdot v = \\sum_{i}{u_i \\times v_i}$\n"
   ]
  },
  {
   "cell_type": "code",
   "execution_count": 22,
   "id": "15aed748-9b8d-437e-b908-97ed2049c6af",
   "metadata": {},
   "outputs": [
    {
     "data": {
      "text/plain": [
       "array([0.79, 0.6 , 0.91, 0.26])"
      ]
     },
     "execution_count": 22,
     "metadata": {},
     "output_type": "execute_result"
    }
   ],
   "source": [
    "u = np.random.rand(4)\n",
    "u"
   ]
  },
  {
   "cell_type": "code",
   "execution_count": 23,
   "id": "c35f9455-642e-4b2a-a3c6-93403f56bf0b",
   "metadata": {},
   "outputs": [
    {
     "data": {
      "text/plain": [
       "0.8283795128391014"
      ]
     },
     "execution_count": 23,
     "metadata": {},
     "output_type": "execute_result"
    }
   ],
   "source": [
    "np.dot(u, v)"
   ]
  },
  {
   "cell_type": "code",
   "execution_count": 24,
   "id": "2b53199f-2279-46b9-94d1-93fdecbe50a6",
   "metadata": {},
   "outputs": [
    {
     "data": {
      "text/plain": [
       "0.8283795128391014"
      ]
     },
     "execution_count": 24,
     "metadata": {},
     "output_type": "execute_result"
    }
   ],
   "source": [
    "u @ v"
   ]
  },
  {
   "cell_type": "markdown",
   "id": "c9d5e584-2e27-4833-8c1c-db5c26484a6e",
   "metadata": {},
   "source": [
    "- Don't forget that we can always perform element-wise multiplication of ndarrays of the same dimension"
   ]
  },
  {
   "cell_type": "code",
   "execution_count": 25,
   "id": "8da127fb-872b-41a5-8b42-2d2bdced4dd0",
   "metadata": {},
   "outputs": [
    {
     "data": {
      "text/plain": [
       "array([0.12, 0.11, 0.34, 0.25])"
      ]
     },
     "execution_count": 25,
     "metadata": {},
     "output_type": "execute_result"
    }
   ],
   "source": [
    "u * v"
   ]
  },
  {
   "cell_type": "markdown",
   "id": "41ea598d-b6d7-473b-8a0f-f10b7e695d2c",
   "metadata": {},
   "source": [
    "## Persistent Storage of Numpy Data\n",
    "\n",
    "Numpy can save data to the disk, and load data from disk.\n",
    "\n",
    "### Saving data"
   ]
  },
  {
   "cell_type": "code",
   "execution_count": 26,
   "id": "071646c8-15d8-4055-8beb-7addb4653d93",
   "metadata": {},
   "outputs": [
    {
     "data": {
      "text/plain": [
       "array([[0.86, 0.34, 0.42],\n",
       "       [0.5 , 0.27, 0.95],\n",
       "       [0.73, 0.61, 0.35],\n",
       "       [0.27, 0.8 , 0.83],\n",
       "       [0.52, 0.73, 0.45],\n",
       "       [0.53, 0.01, 0.72]])"
      ]
     },
     "execution_count": 26,
     "metadata": {},
     "output_type": "execute_result"
    }
   ],
   "source": [
    "#\n",
    "# Consider an nd-array obtained somehow.\n",
    "#\n",
    "data = np.random.rand(6, 3)\n",
    "data"
   ]
  },
  {
   "cell_type": "code",
   "execution_count": 27,
   "id": "0078ad1d-a94a-47e6-b938-0f975c787df5",
   "metadata": {},
   "outputs": [],
   "source": [
    "#\n",
    "# We can save it with numpy.save(filename, ndarray)\n",
    "#\n",
    "np.save('my_data', data)"
   ]
  },
  {
   "cell_type": "markdown",
   "id": "8aed303e-d5b1-4536-82e6-10ee505e5710",
   "metadata": {},
   "source": [
    "### Loading Data"
   ]
  },
  {
   "cell_type": "code",
   "execution_count": 28,
   "id": "2771314c-c9d3-4773-9d76-abfb6f201fec",
   "metadata": {},
   "outputs": [
    {
     "data": {
      "text/plain": [
       "array([[0.86, 0.34, 0.42],\n",
       "       [0.5 , 0.27, 0.95],\n",
       "       [0.73, 0.61, 0.35],\n",
       "       [0.27, 0.8 , 0.83],\n",
       "       [0.52, 0.73, 0.45],\n",
       "       [0.53, 0.01, 0.72]])"
      ]
     },
     "execution_count": 28,
     "metadata": {},
     "output_type": "execute_result"
    }
   ],
   "source": [
    "#\n",
    "# We can load the ndarray that is saved in the file.\n",
    "#\n",
    "reloaded_data = np.load('my_data.npy')\n",
    "reloaded_data"
   ]
  }
 ],
 "metadata": {
  "kernelspec": {
   "display_name": "Python 3 (ipykernel)",
   "language": "python",
   "name": "python3"
  },
  "language_info": {
   "codemirror_mode": {
    "name": "ipython",
    "version": 3
   },
   "file_extension": ".py",
   "mimetype": "text/x-python",
   "name": "python",
   "nbconvert_exporter": "python",
   "pygments_lexer": "ipython3",
   "version": "3.8.12"
  }
 },
 "nbformat": 4,
 "nbformat_minor": 5
}

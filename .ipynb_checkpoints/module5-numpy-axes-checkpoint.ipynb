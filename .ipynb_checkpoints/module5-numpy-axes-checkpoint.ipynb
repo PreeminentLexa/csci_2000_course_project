{
 "cells": [
  {
   "cell_type": "markdown",
   "id": "96c5bc0b-660d-46a0-9bb0-a11165bea757",
   "metadata": {
    "tags": []
   },
   "source": [
    "# Module 5 - Numerical Python II\n",
    "\n",
    "\n",
    "NumPy is a library for the Python programming language, adding support for large, multi-dimensional arrays and matrices, along with a large collection of high-level mathematical functions to operate on these arrays (source: https://en.wikipedia.org/wiki/NumPy).\n",
    "\n",
    "Numpy is a Python library, so it comes as a collection of Python modules.\n",
    "- More about numpy: https://www.w3schools.com/python/numpy/default.asp\n",
    "\n"
   ]
  },
  {
   "cell_type": "code",
   "execution_count": 1,
   "id": "0b60fa19-c959-4dee-a1c7-7bb3adbee610",
   "metadata": {},
   "outputs": [],
   "source": [
    "import numpy as np"
   ]
  },
  {
   "cell_type": "markdown",
   "id": "08b30df6-46b7-4ee2-908c-2c58e188aeb6",
   "metadata": {},
   "source": [
    "## Transposing and Reshaping NDArrays\n",
    "\n",
    "### NumPy Axes\n",
    "\n",
    "NumPy axes are like axes in a coordinate system. For example in a cartesian coordinate system, we have (x-axis, y-axis) which gives us points along each of the axes. In the NumPy DNArrays we have axes too, which are representing the element in a location of the array. \n",
    "\n",
    "In a 2D array, the axis 0 is the rows and the axis 1 is the columns.\n",
    "\n",
    "*Q:* How many indices do we need to address a single entry in a ndarray?\n",
    "\n",
    "*A:* The number of axes the ndarray has.\n",
    "\n",
    "Ps. 1D array only have 1 axis, which is the axis 0."
   ]
  },
  {
   "cell_type": "code",
   "execution_count": 2,
   "id": "c4b89d7b-33f4-4113-83a6-b3d15ff89038",
   "metadata": {},
   "outputs": [
    {
     "data": {
      "text/plain": [
       "2"
      ]
     },
     "execution_count": 2,
     "metadata": {},
     "output_type": "execute_result"
    }
   ],
   "source": [
    "# 2D matrix has 2 axes\n",
    "\n",
    "M = np.array([[1,2,3],\n",
    "              [4,5,6]])\n",
    "\n",
    "M[0,1]"
   ]
  },
  {
   "cell_type": "markdown",
   "id": "87b38a2a-1ab2-4b6d-b795-0aaab9b0b5be",
   "metadata": {},
   "source": [
    "- `array.shape` gives us the sizes of each axes"
   ]
  },
  {
   "cell_type": "code",
   "execution_count": 28,
   "id": "c931334d-962f-4528-a58d-5a5b4647c027",
   "metadata": {},
   "outputs": [
    {
     "data": {
      "text/plain": [
       "(2, 3)"
      ]
     },
     "execution_count": 28,
     "metadata": {},
     "output_type": "execute_result"
    }
   ],
   "source": [
    "# Listing the sizes of each axes\n",
    "M.shape"
   ]
  },
  {
   "cell_type": "code",
   "execution_count": 29,
   "id": "17e54ab9-d8e1-4577-ab8f-91d071f16f07",
   "metadata": {},
   "outputs": [
    {
     "data": {
      "text/plain": [
       "2"
      ]
     },
     "execution_count": 29,
     "metadata": {},
     "output_type": "execute_result"
    }
   ],
   "source": [
    "# Explicitly counting the number of axes of M\n",
    "len(M.shape)"
   ]
  },
  {
   "cell_type": "markdown",
   "id": "93bb31df-885a-478f-87b5-940473ddbe8c",
   "metadata": {},
   "source": [
    "- a 1D array, a vector only has 1 axis"
   ]
  },
  {
   "cell_type": "code",
   "execution_count": 30,
   "id": "83923b13-5b06-4737-ac23-f2ffa99f7941",
   "metadata": {},
   "outputs": [
    {
     "name": "stdout",
     "output_type": "stream",
     "text": [
      "2\n",
      "(3,)\n",
      "1\n"
     ]
    }
   ],
   "source": [
    "# Vector has 1 axis\n",
    "\n",
    "v = np.array([1,2,3])\n",
    "# 1 index, 1 axis\n",
    "print(v[1])\n",
    "print(v.shape)\n",
    "print(len(v.shape))"
   ]
  },
  {
   "cell_type": "markdown",
   "id": "88f9666f-5f62-4e22-a38d-a3cb9a53e6ca",
   "metadata": {},
   "source": [
    "- Scalars have 0 axes"
   ]
  },
  {
   "cell_type": "code",
   "execution_count": 31,
   "id": "5ecb1fa5-72d3-4917-8573-7a14a07ec677",
   "metadata": {},
   "outputs": [
    {
     "name": "stdout",
     "output_type": "stream",
     "text": [
      "3.14\n",
      "()\n",
      "0\n"
     ]
    }
   ],
   "source": [
    "# Scalars have 0 axes\n",
    "x = np.array(3.14)\n",
    "print(x)\n",
    "print(x.shape)\n",
    "print(len(x.shape))"
   ]
  },
  {
   "cell_type": "markdown",
   "id": "0cd70ab5-1b35-4640-9f4d-4a41da531731",
   "metadata": {},
   "source": [
    "### Transposing\n",
    "\n",
    "Transpose is an operation in linear algebra. It makes the rows of input matrix into columns of the output matrix."
   ]
  },
  {
   "cell_type": "code",
   "execution_count": 32,
   "id": "4e62b942-9a4a-4271-b878-4237c666a89f",
   "metadata": {},
   "outputs": [
    {
     "data": {
      "text/plain": [
       "array([[1, 2, 3],\n",
       "       [4, 5, 6]])"
      ]
     },
     "execution_count": 32,
     "metadata": {},
     "output_type": "execute_result"
    }
   ],
   "source": [
    "# Here is the input matrix\n",
    "M"
   ]
  },
  {
   "cell_type": "code",
   "execution_count": 33,
   "id": "ea7455d3-1363-4b32-9bc1-91204671ea42",
   "metadata": {},
   "outputs": [
    {
     "data": {
      "text/plain": [
       "array([[1, 4],\n",
       "       [2, 5],\n",
       "       [3, 6]])"
      ]
     },
     "execution_count": 33,
     "metadata": {},
     "output_type": "execute_result"
    }
   ],
   "source": [
    "# A quick way to obtain the transpose of M\n",
    "M.T"
   ]
  },
  {
   "cell_type": "code",
   "execution_count": 34,
   "id": "0eed8ec9-bad7-4e01-848c-46d4b502ab97",
   "metadata": {},
   "outputs": [
    {
     "data": {
      "text/plain": [
       "array([[1, 4],\n",
       "       [2, 5],\n",
       "       [3, 6]])"
      ]
     },
     "execution_count": 34,
     "metadata": {},
     "output_type": "execute_result"
    }
   ],
   "source": [
    "#\n",
    "# M.T is a special case of more general multi-axes transpose.\n",
    "#\n",
    "np.transpose(M, (1, 0))"
   ]
  },
  {
   "cell_type": "code",
   "execution_count": 35,
   "id": "5f4b4bf9-9531-4252-99dc-d045d4b3356e",
   "metadata": {},
   "outputs": [
    {
     "data": {
      "text/plain": [
       "array([[1, 4],\n",
       "       [2, 5],\n",
       "       [3, 6]])"
      ]
     },
     "execution_count": 35,
     "metadata": {},
     "output_type": "execute_result"
    }
   ],
   "source": [
    "#\n",
    "# Transpose is also a method of the ndarray object\n",
    "#\n",
    "M.transpose((1,0))"
   ]
  },
  {
   "cell_type": "markdown",
   "id": "556c8bcb-564e-4810-a967-64971d6ef36e",
   "metadata": {},
   "source": [
    "### Reshaping NDArrays\n",
    "\n",
    "We can change the shape of NDarrays as long as the *total number of entries* remain the same.\n",
    "\n",
    "A ndarray with shape (4,3) has 12 elements. It can be reshaped into one (2,2,3)"
   ]
  },
  {
   "cell_type": "raw",
   "id": "d44dee3d-0e6c-4e71-aa46-84e1459f7983",
   "metadata": {},
   "source": [
    "+---+---+---+        +-------------------------------------+\n",
    "|   |   |   |        |                                     |\n",
    "+---+---+---+        |   +---+---+---+    +---+---+---+    |\n",
    "|   |   |   |   ==>  |   |.  |.  |.  |    |.  |.  |.  |    |\n",
    "+---+---+---+        |   +---+---+---+    +---+---+---+    |\n",
    "|   |   |   |        |   |.  |.  |.  |    |.  |.  |.  |    |\n",
    "+---+---+---+        |   +---+---+---+    +---+---+---+    |\n",
    "|   |   |   |        |                                     |\n",
    "+---+---+---+        +-------------------------------------+"
   ]
  },
  {
   "cell_type": "markdown",
   "id": "a4509c34-a2aa-49dd-babc-7244fa391601",
   "metadata": {},
   "source": [
    "**NDArray to vectors**\n",
    "\n",
    "It's easier to see how ndarrays are reshaped into *vectors*."
   ]
  },
  {
   "cell_type": "code",
   "execution_count": 36,
   "id": "9d2d7346-677c-4e1e-bfb9-c3a507e5a6fa",
   "metadata": {},
   "outputs": [
    {
     "data": {
      "text/plain": [
       "array([[1, 2, 3],\n",
       "       [4, 5, 6]])"
      ]
     },
     "execution_count": 36,
     "metadata": {},
     "output_type": "execute_result"
    }
   ],
   "source": [
    "# 2D array\n",
    "M"
   ]
  },
  {
   "cell_type": "code",
   "execution_count": 37,
   "id": "205fe373-68d2-4eff-a687-bd332304e5c4",
   "metadata": {},
   "outputs": [
    {
     "data": {
      "text/plain": [
       "array([1, 2, 3, 4, 5, 6])"
      ]
     },
     "execution_count": 37,
     "metadata": {},
     "output_type": "execute_result"
    }
   ],
   "source": [
    "#\n",
    "# Reshape always iterates over the __inner__ axes first,\n",
    "# and then __outter__ axes.\n",
    "#\n",
    "np.reshape(M, (6,))"
   ]
  },
  {
   "cell_type": "markdown",
   "id": "67da92e1-bf4c-49c8-ba35-7de0a8c06589",
   "metadata": {},
   "source": [
    "- same operation without numpy:"
   ]
  },
  {
   "cell_type": "code",
   "execution_count": 38,
   "id": "af6821c9-64a9-425a-ae5a-66305d3dad34",
   "metadata": {},
   "outputs": [
    {
     "name": "stdout",
     "output_type": "stream",
     "text": [
      "1\n",
      "2\n",
      "3\n",
      "4\n",
      "5\n",
      "6\n"
     ]
    }
   ],
   "source": [
    "#\n",
    "# This is what numpy is doing (fast)\n",
    "#\n",
    "I,J = M.shape\n",
    "for i in range(I):\n",
    "    for j in range(J):\n",
    "        print(M[i,j])"
   ]
  },
  {
   "cell_type": "code",
   "execution_count": 39,
   "id": "fcf3a4ea-5f27-4557-92cd-6c703a5fc674",
   "metadata": {},
   "outputs": [
    {
     "data": {
      "text/plain": [
       "array([1, 2, 3, 4, 5, 6])"
      ]
     },
     "execution_count": 39,
     "metadata": {},
     "output_type": "execute_result"
    }
   ],
   "source": [
    "#\n",
    "# We can also use the reshape method of the ndarray object\n",
    "#\n",
    "M.reshape((6,))"
   ]
  },
  {
   "cell_type": "markdown",
   "id": "ee8f288c-d69a-4402-9f02-3d873045d91f",
   "metadata": {},
   "source": [
    "**Vectors to NDArray**\n",
    "\n",
    "- The reverse happens when converting a vector to a multi-axes ndarray."
   ]
  },
  {
   "cell_type": "code",
   "execution_count": 40,
   "id": "89e6e1f2-d415-4d3c-ad19-72f85dd3ba3b",
   "metadata": {},
   "outputs": [
    {
     "data": {
      "text/plain": [
       "array([1, 2, 3, 4, 5, 6, 7, 8])"
      ]
     },
     "execution_count": 40,
     "metadata": {},
     "output_type": "execute_result"
    }
   ],
   "source": [
    "v = np.array([1,2,3,4,5,6,7,8])\n",
    "v"
   ]
  },
  {
   "cell_type": "code",
   "execution_count": 41,
   "id": "764f76d6-2cd7-4efc-b186-8e82699c2f97",
   "metadata": {},
   "outputs": [
    {
     "data": {
      "text/plain": [
       "array([[1, 2, 3, 4],\n",
       "       [5, 6, 7, 8]])"
      ]
     },
     "execution_count": 41,
     "metadata": {},
     "output_type": "execute_result"
    }
   ],
   "source": [
    "v.reshape((2,4))"
   ]
  },
  {
   "cell_type": "markdown",
   "id": "bee71d0e-ad8e-44b1-95d7-2e3b2abc8a10",
   "metadata": {},
   "source": [
    "**NDArray to NDArray**\n",
    "\n",
    "A good way of understanding how reshape works is to imagine that the input ndarray is converted to a vector, which in turn is converted to the output ndarray."
   ]
  },
  {
   "cell_type": "code",
   "execution_count": 42,
   "id": "90f4deb8-2110-43e4-aa5e-a1584063e04d",
   "metadata": {},
   "outputs": [
    {
     "data": {
      "text/plain": [
       "array([[[1, 2],\n",
       "        [3, 4]],\n",
       "\n",
       "       [[5, 6],\n",
       "        [7, 8]]])"
      ]
     },
     "execution_count": 42,
     "metadata": {},
     "output_type": "execute_result"
    }
   ],
   "source": [
    "A = np.array([[[1,2],\n",
    "               [3,4]],\n",
    "              [[5,6],\n",
    "               [7,8]]])\n",
    "A\n"
   ]
  },
  {
   "cell_type": "code",
   "execution_count": 43,
   "id": "42da0b06-b97f-4613-9a40-996ef18bca4f",
   "metadata": {},
   "outputs": [
    {
     "data": {
      "text/plain": [
       "(2, 2, 2)"
      ]
     },
     "execution_count": 43,
     "metadata": {},
     "output_type": "execute_result"
    }
   ],
   "source": [
    "A.shape"
   ]
  },
  {
   "cell_type": "code",
   "execution_count": 48,
   "id": "3adb3149-3a76-4ed6-bc26-cd993ffc7d98",
   "metadata": {},
   "outputs": [
    {
     "data": {
      "text/plain": [
       "3"
      ]
     },
     "execution_count": 48,
     "metadata": {},
     "output_type": "execute_result"
    }
   ],
   "source": [
    "len(A.shape)"
   ]
  },
  {
   "cell_type": "code",
   "execution_count": 50,
   "id": "e8cfc01f-556b-4cdb-b209-7bc23c7cd807",
   "metadata": {},
   "outputs": [
    {
     "data": {
      "text/plain": [
       "array([[1, 2, 3, 4],\n",
       "       [5, 6, 7, 8]])"
      ]
     },
     "execution_count": 50,
     "metadata": {},
     "output_type": "execute_result"
    }
   ],
   "source": [
    "B = A.reshape(2,4)\n",
    "B"
   ]
  },
  {
   "cell_type": "code",
   "execution_count": null,
   "id": "9a69be55-acd2-4353-af04-d97966169446",
   "metadata": {},
   "outputs": [],
   "source": [
    "I,J = np.where(sales < 0)\n",
    "print(list(zip(I,J)))"
   ]
  },
  {
   "cell_type": "markdown",
   "id": "2bfa02a5-a2fb-4693-98bf-4e5ed2c4ed40",
   "metadata": {},
   "source": [
    "### Transposing vs Reshaping\n",
    "\n",
    "Transposing and reshaping are not the same. They may change the shape of a ndarray in the same way, but:\n",
    "\n",
    "1. Transpose changes the order of the axes.\n",
    "2. Reorder changes the dimensions of each axis."
   ]
  },
  {
   "cell_type": "code",
   "execution_count": 45,
   "id": "a1aef816-acef-4ad4-a015-97516f4c26c1",
   "metadata": {},
   "outputs": [
    {
     "data": {
      "text/plain": [
       "array([[1, 2, 3],\n",
       "       [4, 5, 6]])"
      ]
     },
     "execution_count": 45,
     "metadata": {},
     "output_type": "execute_result"
    }
   ],
   "source": [
    "M"
   ]
  },
  {
   "cell_type": "code",
   "execution_count": 46,
   "id": "c2985b61-9774-4d7e-80cc-d1ac3e3b1f41",
   "metadata": {},
   "outputs": [
    {
     "data": {
      "text/plain": [
       "array([[1, 4],\n",
       "       [2, 5],\n",
       "       [3, 6]])"
      ]
     },
     "execution_count": 46,
     "metadata": {},
     "output_type": "execute_result"
    }
   ],
   "source": [
    "M.transpose(1,0)"
   ]
  },
  {
   "cell_type": "code",
   "execution_count": 47,
   "id": "73b19957-ec15-4056-88bd-3e171c0dfb13",
   "metadata": {},
   "outputs": [
    {
     "data": {
      "text/plain": [
       "array([[1, 2],\n",
       "       [3, 4],\n",
       "       [5, 6]])"
      ]
     },
     "execution_count": 47,
     "metadata": {},
     "output_type": "execute_result"
    }
   ],
   "source": [
    "M.reshape(3, 2)"
   ]
  }
 ],
 "metadata": {
  "kernelspec": {
   "display_name": "Python 3 (ipykernel)",
   "language": "python",
   "name": "python3"
  },
  "language_info": {
   "codemirror_mode": {
    "name": "ipython",
    "version": 3
   },
   "file_extension": ".py",
   "mimetype": "text/x-python",
   "name": "python",
   "nbconvert_exporter": "python",
   "pygments_lexer": "ipython3",
   "version": "3.8.12"
  }
 },
 "nbformat": 4,
 "nbformat_minor": 5
}

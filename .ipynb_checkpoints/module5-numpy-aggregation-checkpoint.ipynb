{
 "cells": [
  {
   "cell_type": "markdown",
   "id": "96c5bc0b-660d-46a0-9bb0-a11165bea757",
   "metadata": {
    "tags": []
   },
   "source": [
    "# Module 5 - Numerical Python II\n",
    "\n",
    "\n",
    "NumPy is a library for the Python programming language, adding support for large, multi-dimensional arrays and matrices, along with a large collection of high-level mathematical functions to operate on these arrays (source: https://en.wikipedia.org/wiki/NumPy).\n",
    "\n",
    "Numpy is a Python library, so it comes as a collection of Python modules.\n",
    "- More about numpy: https://www.w3schools.com/python/numpy/default.asp\n",
    "\n"
   ]
  },
  {
   "cell_type": "code",
   "execution_count": 1,
   "id": "0b60fa19-c959-4dee-a1c7-7bb3adbee610",
   "metadata": {},
   "outputs": [],
   "source": [
    "import numpy as np\n",
    "np.set_printoptions(precision=2)"
   ]
  },
  {
   "cell_type": "markdown",
   "id": "08b30df6-46b7-4ee2-908c-2c58e188aeb6",
   "metadata": {},
   "source": [
    "## Aggregation Functions and Statistics\n",
    "\n",
    "An aggregation function is a function that can map a collection of values to a single value:\n",
    "\n",
    "Examples:\n",
    "\n",
    "- Mean\n",
    "- Max and min\n",
    "- Count (distinct)\n",
    "- ..."
   ]
  },
  {
   "cell_type": "code",
   "execution_count": 2,
   "id": "c4b89d7b-33f4-4113-83a6-b3d15ff89038",
   "metadata": {},
   "outputs": [
    {
     "data": {
      "text/plain": [
       "array([1., 2., 1., 3., 2., 4., 6., 5., 6.])"
      ]
     },
     "execution_count": 2,
     "metadata": {},
     "output_type": "execute_result"
    }
   ],
   "source": [
    "# creating an array\n",
    "v = np.array([1, 2, 1, 3, 2, 4, 6, 5, 6.])\n",
    "v"
   ]
  },
  {
   "cell_type": "markdown",
   "id": "87b38a2a-1ab2-4b6d-b795-0aaab9b0b5be",
   "metadata": {},
   "source": [
    "- We can calculate different aggregation function very easily: "
   ]
  },
  {
   "cell_type": "code",
   "execution_count": 3,
   "id": "c931334d-962f-4528-a58d-5a5b4647c027",
   "metadata": {},
   "outputs": [
    {
     "data": {
      "text/plain": [
       "3.3333333333333335"
      ]
     },
     "execution_count": 3,
     "metadata": {},
     "output_type": "execute_result"
    }
   ],
   "source": [
    "# built-in in np array\n",
    "v.mean()"
   ]
  },
  {
   "cell_type": "code",
   "execution_count": 4,
   "id": "17e54ab9-d8e1-4577-ab8f-91d071f16f07",
   "metadata": {},
   "outputs": [
    {
     "data": {
      "text/plain": [
       "3.3333333333333335"
      ]
     },
     "execution_count": 4,
     "metadata": {},
     "output_type": "execute_result"
    }
   ],
   "source": [
    "np.mean(v)"
   ]
  },
  {
   "cell_type": "code",
   "execution_count": 5,
   "id": "326221ca-2a8d-412f-b70d-8015c8de3888",
   "metadata": {},
   "outputs": [
    {
     "data": {
      "text/plain": [
       "6.0"
      ]
     },
     "execution_count": 5,
     "metadata": {},
     "output_type": "execute_result"
    }
   ],
   "source": [
    "np.max(v)"
   ]
  },
  {
   "cell_type": "code",
   "execution_count": 6,
   "id": "703b198f-c0cc-4bee-8eb9-c1b69da7347d",
   "metadata": {},
   "outputs": [
    {
     "data": {
      "text/plain": [
       "1.0"
      ]
     },
     "execution_count": 6,
     "metadata": {},
     "output_type": "execute_result"
    }
   ],
   "source": [
    "np.min(v)"
   ]
  },
  {
   "cell_type": "code",
   "execution_count": 7,
   "id": "40290863-3e39-4e3d-ac1f-8865d3fff3ad",
   "metadata": {},
   "outputs": [
    {
     "data": {
      "text/plain": [
       "6"
      ]
     },
     "execution_count": 7,
     "metadata": {},
     "output_type": "execute_result"
    }
   ],
   "source": [
    "len(np.unique(v))"
   ]
  },
  {
   "cell_type": "markdown",
   "id": "93bb31df-885a-478f-87b5-940473ddbe8c",
   "metadata": {},
   "source": [
    "### Aggregating higher dimensional ndarrays"
   ]
  },
  {
   "cell_type": "code",
   "execution_count": 8,
   "id": "83923b13-5b06-4737-ac23-f2ffa99f7941",
   "metadata": {},
   "outputs": [
    {
     "data": {
      "text/plain": [
       "array([[ 0,  1,  2,  3,  4],\n",
       "       [ 5,  6,  7,  8,  9],\n",
       "       [10, 11, 12, 13, 14]])"
      ]
     },
     "execution_count": 8,
     "metadata": {},
     "output_type": "execute_result"
    }
   ],
   "source": [
    "# creating a 2D array distribute in 3 rows and 5 columns\n",
    "M = np.arange(15).reshape(3,5)\n",
    "M"
   ]
  },
  {
   "cell_type": "markdown",
   "id": "88f9666f-5f62-4e22-a38d-a3cb9a53e6ca",
   "metadata": {},
   "source": [
    "The matrix $M$ has two axes. This creates multiple possible aggregations.\n",
    "\n",
    "1. Treat $M$ as a single collection of values.\n",
    "2. Aggregate each row to a single value. This means we aggregate *along* the column axis.\n",
    "3. Aggregate each column to a single value. This means we aggregate *along* the row axis."
   ]
  },
  {
   "cell_type": "code",
   "execution_count": 9,
   "id": "5ecb1fa5-72d3-4917-8573-7a14a07ec677",
   "metadata": {},
   "outputs": [
    {
     "data": {
      "text/plain": [
       "105"
      ]
     },
     "execution_count": 9,
     "metadata": {},
     "output_type": "execute_result"
    }
   ],
   "source": [
    "# Sum up the whole matrix\n",
    "np.sum(M)"
   ]
  },
  {
   "cell_type": "code",
   "execution_count": 10,
   "id": "76528b20-7764-4d47-b584-d3dfc31bf8b5",
   "metadata": {},
   "outputs": [
    {
     "data": {
      "text/plain": [
       "array([15, 18, 21, 24, 27])"
      ]
     },
     "execution_count": 10,
     "metadata": {},
     "output_type": "execute_result"
    }
   ],
   "source": [
    "# Sum up along the row axis\n",
    "np.sum(M, 0)"
   ]
  },
  {
   "cell_type": "code",
   "execution_count": 11,
   "id": "27c58c3d-12ff-4799-8a0e-f69dbcad4d84",
   "metadata": {},
   "outputs": [
    {
     "data": {
      "text/plain": [
       "array([10, 35, 60])"
      ]
     },
     "execution_count": 11,
     "metadata": {},
     "output_type": "execute_result"
    }
   ],
   "source": [
    "# Sum up along the column axis\n",
    "np.sum(M, 1)"
   ]
  },
  {
   "cell_type": "markdown",
   "id": "0cd70ab5-1b35-4640-9f4d-4a41da531731",
   "metadata": {},
   "source": [
    "### Making sense of the aggregation along an axis\n",
    "\n",
    "- Shape of M: `(3, 5)`\n",
    "- `Y = np.sum(M, 0)`: collapses the row dimension to `1`. So the resulting shape is `(5,)`.\n",
    "- `Y = np.sum(M, 1)`: collapses the column dimension to `1`. The output shape is `(3,)`.\n",
    "\n",
    "**Challenge**\n",
    "\n",
    "Numpy allows us to aggregate along multiple axes. Can you make sense of the following?"
   ]
  },
  {
   "cell_type": "code",
   "execution_count": 12,
   "id": "4e62b942-9a4a-4271-b878-4237c666a89f",
   "metadata": {},
   "outputs": [
    {
     "data": {
      "text/plain": [
       "array([[ 0,  1,  2,  3,  4],\n",
       "       [ 5,  6,  7,  8,  9],\n",
       "       [10, 11, 12, 13, 14]])"
      ]
     },
     "execution_count": 12,
     "metadata": {},
     "output_type": "execute_result"
    }
   ],
   "source": [
    "np.sum(M, ()) # didnt specify along which axis to sum and therefore nothing happened (shaped unchanged)"
   ]
  },
  {
   "cell_type": "code",
   "execution_count": 45,
   "id": "ea7455d3-1363-4b32-9bc1-91204671ea42",
   "metadata": {},
   "outputs": [
    {
     "data": {
      "text/plain": [
       "105"
      ]
     },
     "execution_count": 45,
     "metadata": {},
     "output_type": "execute_result"
    }
   ],
   "source": [
    "np.sum(M, (0, 1)) # collapses both axes so output has zero axes - just single value"
   ]
  },
  {
   "cell_type": "markdown",
   "id": "556c8bcb-564e-4810-a967-64971d6ef36e",
   "metadata": {},
   "source": [
    "Let's make sure we understand the transformation:\n",
    "\n",
    "- shape of M is `(3,5)`.\n",
    "- `np.sum(M, ())` does not collapse any of the axes, so the output shape is unchanged: `(3,5)`.\n",
    "- `np.sum(M, (0, 1)` collapses both axes, so the output shape has zero axes `()`, which is just a single value."
   ]
  },
  {
   "cell_type": "markdown",
   "id": "cbc2578a-bb80-4607-8f9a-31d4171435e3",
   "metadata": {},
   "source": [
    "## Statistics\n",
    "\n",
    "A statistics of a collection of samples from a population is an aggregated value that reflects the underlying nature of the whole population.\n",
    "\n",
    "- Mininum and maximum\n",
    "- Percentile\n",
    "- Median\n",
    "- Mean\n",
    "- Standard deviation and variance\n",
    " \n",
    "**Minimum and maximum**\n",
    "- Find the extremum value in a collection.\n",
    "- Find the index of the extremum."
   ]
  },
  {
   "cell_type": "code",
   "execution_count": 14,
   "id": "49541a26-6459-4bba-a3fb-9406751a4eaf",
   "metadata": {},
   "outputs": [
    {
     "data": {
      "text/plain": [
       "array([ 0.04,  1.17,  1.14,  0.25, -1.83,  1.15,  1.88, -0.22,  1.66,\n",
       "        0.12])"
      ]
     },
     "execution_count": 14,
     "metadata": {},
     "output_type": "execute_result"
    }
   ],
   "source": [
    "nums = np.random.randn(10)\n",
    "nums"
   ]
  },
  {
   "cell_type": "code",
   "execution_count": 15,
   "id": "49bb4988-ded8-496b-ba30-7a44194ab4c1",
   "metadata": {},
   "outputs": [
    {
     "name": "stdout",
     "output_type": "stream",
     "text": [
      "mininum = -1.8278614079393756\n",
      "maximum = 1.8818538463152292\n"
     ]
    }
   ],
   "source": [
    "# What is the minimum and maximum?\n",
    "print(\"mininum =\", nums.min())\n",
    "print(\"maximum =\", nums.max())"
   ]
  },
  {
   "cell_type": "code",
   "execution_count": 16,
   "id": "8a953222-9c4e-4598-9697-5500cb1226d3",
   "metadata": {},
   "outputs": [
    {
     "name": "stdout",
     "output_type": "stream",
     "text": [
      "nums[4] = -1.83\n",
      "nums[6] = 1.88\n"
     ]
    }
   ],
   "source": [
    "# But where are they?\n",
    "i_min = nums.argmin()\n",
    "i_max = nums.argmax()\n",
    "print(\"nums[{}] = {:.2f}\".format(i_min, nums[i_min]))\n",
    "print(\"nums[{}] = {:.2f}\".format(i_max, nums[i_max]))"
   ]
  },
  {
   "cell_type": "markdown",
   "id": "ee8f288c-d69a-4402-9f02-3d873045d91f",
   "metadata": {},
   "source": [
    "**Argmin and argmax for multiple axes**\n"
   ]
  },
  {
   "cell_type": "code",
   "execution_count": 24,
   "id": "89e6e1f2-d415-4d3c-ad19-72f85dd3ba3b",
   "metadata": {},
   "outputs": [
    {
     "data": {
      "text/plain": [
       "array([[82.36,  4.49, 60.88, 69.85,  4.72],\n",
       "       [38.31, 93.07, 29.27, 98.95, 71.  ],\n",
       "       [25.42, 13.44, 75.04, 57.73,  0.2 ]])"
      ]
     },
     "execution_count": 24,
     "metadata": {},
     "output_type": "execute_result"
    }
   ],
   "source": [
    "X = np.random.rand(3 * 5).reshape(3,5) * 100\n",
    "X"
   ]
  },
  {
   "cell_type": "code",
   "execution_count": 25,
   "id": "764f76d6-2cd7-4efc-b186-8e82699c2f97",
   "metadata": {},
   "outputs": [
    {
     "data": {
      "text/plain": [
       "14"
      ]
     },
     "execution_count": 25,
     "metadata": {},
     "output_type": "execute_result"
    }
   ],
   "source": [
    "# By default, argmin flattens the ndarray\n",
    "np.argmin(X) # finding the index with the minimum out of the entire array (no axis specified)"
   ]
  },
  {
   "cell_type": "code",
   "execution_count": 26,
   "id": "78686f03-f74d-42a2-b43b-8eef178601b5",
   "metadata": {},
   "outputs": [
    {
     "data": {
      "text/plain": [
       "array([2, 0, 1, 2, 2])"
      ]
     },
     "execution_count": 26,
     "metadata": {},
     "output_type": "execute_result"
    }
   ],
   "source": [
    "# We can also compute min-locations if we\n",
    "# aggregate along an axis.\n",
    "\n",
    "np.argmin(X, 0) # finding the indicies with the minimum along axis 0 (each column of the maxtrix)"
   ]
  },
  {
   "cell_type": "markdown",
   "id": "903b5ef2-f072-4f7f-9817-e9ad0d07e23f",
   "metadata": {},
   "source": [
    "**Percentile**\n",
    "\n",
    "1. Let $X$ be a collective of $N$ numbers $\\{x_1, x_2, x_3,..., x_N\\}$. \n",
    "2. Let $r$ be a percentage: $0 \\leq r \\leq 100$\n",
    "\n",
    "A $r$-percentile is a value $c$ such that at least $\\frac{r}{100}$.$N$ values in $X$ are less than $c$.\n",
    "\n",
    "$\\frac{|\\{x \\in X:x\\leq c\\}|}{N}=\\frac{r}{100}$"
   ]
  },
  {
   "cell_type": "code",
   "execution_count": 30,
   "id": "dc9927e0-ef18-4d15-9564-21d4167881f1",
   "metadata": {},
   "outputs": [
    {
     "data": {
      "text/plain": [
       "array([88.64, 96.74, 16.61, 57.36,  2.03, 27.81, 46.04, 51.81,  2.75,\n",
       "       33.9 , 59.21, 84.16, 56.54,  3.29, 87.15, 85.73, 10.91, 60.87,\n",
       "       96.59, 13.01, 40.86, 51.86, 99.25, 87.05, 67.04, 36.74, 97.63,\n",
       "       50.34,  8.59, 23.96, 28.12, 30.27, 64.27, 49.34, 36.44, 66.53,\n",
       "       98.32, 54.38, 87.77, 29.78,  5.  , 12.34, 13.35,  9.46, 46.63,\n",
       "       95.49, 25.87,  6.58, 70.29, 42.14, 32.23, 45.66, 16.27, 47.37,\n",
       "       25.91, 20.47, 82.66, 75.3 ,  0.21, 65.32, 38.08, 22.37, 30.47,\n",
       "       56.8 , 35.73, 70.44, 47.52, 14.14, 98.42, 20.39, 85.62, 28.51,\n",
       "       26.53,  5.77, 74.29, 78.08, 58.94, 94.62, 29.31, 14.  , 96.35,\n",
       "       46.84, 16.65, 65.75,  1.4 , 57.26,  3.75, 12.15,  7.81, 23.96,\n",
       "       10.54, 32.68, 29.72, 12.43, 84.3 , 46.44, 61.65, 48.51, 28.02,\n",
       "       22.07])"
      ]
     },
     "execution_count": 30,
     "metadata": {},
     "output_type": "execute_result"
    }
   ],
   "source": [
    "np.set_printoptions(suppress=True)\n",
    "X = np.random.rand(100)*100\n",
    "X"
   ]
  },
  {
   "cell_type": "code",
   "execution_count": 31,
   "id": "0b629e2e-b60c-48f2-9a24-0318c9fddbc9",
   "metadata": {},
   "outputs": [
    {
     "data": {
      "text/plain": [
       "14.10891834165329"
      ]
     },
     "execution_count": 31,
     "metadata": {},
     "output_type": "execute_result"
    }
   ],
   "source": [
    "np.percentile(X, 20)"
   ]
  },
  {
   "cell_type": "code",
   "execution_count": 32,
   "id": "e4ad91f9-5713-4c8d-9477-d0287383f483",
   "metadata": {},
   "outputs": [
    {
     "data": {
      "text/plain": [
       "20"
      ]
     },
     "execution_count": 32,
     "metadata": {},
     "output_type": "execute_result"
    }
   ],
   "source": [
    "np.sum(X <= np.percentile(X, 20))"
   ]
  },
  {
   "cell_type": "markdown",
   "id": "bee71d0e-ad8e-44b1-95d7-2e3b2abc8a10",
   "metadata": {},
   "source": [
    "**Did you know?**\n",
    "\n",
    "- 0-percentile is the minimum.\n",
    "- 100-percentile is the maximum."
   ]
  },
  {
   "cell_type": "code",
   "execution_count": 33,
   "id": "90f4deb8-2110-43e4-aa5e-a1584063e04d",
   "metadata": {},
   "outputs": [
    {
     "name": "stdout",
     "output_type": "stream",
     "text": [
      "0-percentile = 0.21\n",
      "100-percentile = 99.25\n"
     ]
    }
   ],
   "source": [
    "print(\"0-percentile = {:.2f}\".format(np.percentile(X, 0)))\n",
    "print(\"100-percentile = {:.2f}\".format(np.percentile(X, 100)))\n"
   ]
  },
  {
   "cell_type": "code",
   "execution_count": 34,
   "id": "42da0b06-b97f-4613-9a40-996ef18bca4f",
   "metadata": {},
   "outputs": [
    {
     "name": "stdout",
     "output_type": "stream",
     "text": [
      "min = 0.21\n",
      "max = 99.25\n"
     ]
    }
   ],
   "source": [
    "print(\"min = {:.2f}\".format(X.min()))\n",
    "print(\"max = {:.2f}\".format(X.max()))"
   ]
  },
  {
   "cell_type": "markdown",
   "id": "7e66203d-f376-4175-b41d-378a8b16f487",
   "metadata": {},
   "source": [
    "**Median vs Mean**\n",
    "- The median is another name for 50-percentile.\n",
    "- The mean is the average."
   ]
  },
  {
   "cell_type": "code",
   "execution_count": 35,
   "id": "e8cfc01f-556b-4cdb-b209-7bc23c7cd807",
   "metadata": {},
   "outputs": [
    {
     "data": {
      "text/plain": [
       "41.49592329989936"
      ]
     },
     "execution_count": 35,
     "metadata": {},
     "output_type": "execute_result"
    }
   ],
   "source": [
    "np.median(X)"
   ]
  },
  {
   "cell_type": "code",
   "execution_count": 36,
   "id": "9a69be55-acd2-4353-af04-d97966169446",
   "metadata": {},
   "outputs": [
    {
     "data": {
      "text/plain": [
       "41.49592329989936"
      ]
     },
     "execution_count": 36,
     "metadata": {},
     "output_type": "execute_result"
    }
   ],
   "source": [
    "np.percentile(X, 50)"
   ]
  },
  {
   "cell_type": "code",
   "execution_count": 37,
   "id": "c39e76b4-2e34-4dcd-81cd-ee51b2238aca",
   "metadata": {},
   "outputs": [
    {
     "data": {
      "text/plain": [
       "44.66533326981542"
      ]
     },
     "execution_count": 37,
     "metadata": {},
     "output_type": "execute_result"
    }
   ],
   "source": [
    "np.mean(X)"
   ]
  },
  {
   "cell_type": "markdown",
   "id": "2bfa02a5-a2fb-4693-98bf-4e5ed2c4ed40",
   "metadata": {},
   "source": [
    "**Variations in Data**\n",
    "\n",
    "There is a family of statistics of samples that measure the fluctuation in the data.\n",
    "\n",
    "- Variance:\n",
    "\n",
    "$var(X)=\\frac{1}{n}\\sum{(x_i-mean(X))^2}$\n",
    "\n",
    "- Standard Deviation:\n",
    "\n",
    "$std(X)= \\sqrt{var(X)}$"
   ]
  },
  {
   "cell_type": "code",
   "execution_count": 38,
   "id": "a1aef816-acef-4ad4-a015-97516f4c26c1",
   "metadata": {},
   "outputs": [
    {
     "data": {
      "text/plain": [
       "array([88.64, 96.74, 16.61, 57.36,  2.03, 27.81, 46.04, 51.81,  2.75,\n",
       "       33.9 , 59.21, 84.16, 56.54,  3.29, 87.15, 85.73, 10.91, 60.87,\n",
       "       96.59, 13.01, 40.86, 51.86, 99.25, 87.05, 67.04, 36.74, 97.63,\n",
       "       50.34,  8.59, 23.96, 28.12, 30.27, 64.27, 49.34, 36.44, 66.53,\n",
       "       98.32, 54.38, 87.77, 29.78,  5.  , 12.34, 13.35,  9.46, 46.63,\n",
       "       95.49, 25.87,  6.58, 70.29, 42.14, 32.23, 45.66, 16.27, 47.37,\n",
       "       25.91, 20.47, 82.66, 75.3 ,  0.21, 65.32, 38.08, 22.37, 30.47,\n",
       "       56.8 , 35.73, 70.44, 47.52, 14.14, 98.42, 20.39, 85.62, 28.51,\n",
       "       26.53,  5.77, 74.29, 78.08, 58.94, 94.62, 29.31, 14.  , 96.35,\n",
       "       46.84, 16.65, 65.75,  1.4 , 57.26,  3.75, 12.15,  7.81, 23.96,\n",
       "       10.54, 32.68, 29.72, 12.43, 84.3 , 46.44, 61.65, 48.51, 28.02,\n",
       "       22.07])"
      ]
     },
     "execution_count": 38,
     "metadata": {},
     "output_type": "execute_result"
    }
   ],
   "source": [
    "X"
   ]
  },
  {
   "cell_type": "code",
   "execution_count": 39,
   "id": "c2985b61-9774-4d7e-80cc-d1ac3e3b1f41",
   "metadata": {},
   "outputs": [
    {
     "data": {
      "text/plain": [
       "862.6855687270435"
      ]
     },
     "execution_count": 39,
     "metadata": {},
     "output_type": "execute_result"
    }
   ],
   "source": [
    "np.var(X)"
   ]
  },
  {
   "cell_type": "code",
   "execution_count": 40,
   "id": "73b19957-ec15-4056-88bd-3e171c0dfb13",
   "metadata": {},
   "outputs": [
    {
     "data": {
      "text/plain": [
       "29.371509473076856"
      ]
     },
     "execution_count": 40,
     "metadata": {},
     "output_type": "execute_result"
    }
   ],
   "source": [
    "np.std(X)"
   ]
  },
  {
   "cell_type": "markdown",
   "id": "b3f60053-3bce-495f-8fa1-fb62cb60db15",
   "metadata": {},
   "source": [
    "**Note:** `std(X)` has the same unit as `X`, and thus is easier to reason with.\n",
    "\n",
    "**Cumulative Sum and Product**\n",
    "\n",
    "Given a series of values $x_1,x_2,x_3,...,x_n$, the cumulative sum is another series defined as:\n",
    "- $y_0 = x_0$\n",
    "- $y_0 = x_0 + x_1$\n",
    "- $\\vdots$\n",
    "- $y_0 = \\sum_{i=0}^{i}{x_i}$\n",
    "- $\\vdots$\n",
    "\n",
    "$[y_0, y_1, ..., y_n]$ is called the cumulative sums of $[x_1,x_2,x_3,...,x_n]$.\n",
    "\n",
    "The cumulative product is defined similarly."
   ]
  },
  {
   "cell_type": "code",
   "execution_count": 41,
   "id": "d52bdc0d-2b13-4aa5-a6d4-4c83380b8508",
   "metadata": {},
   "outputs": [
    {
     "data": {
      "text/plain": [
       "array([ 1,  2,  3,  4,  5,  6,  7,  8,  9, 10])"
      ]
     },
     "execution_count": 41,
     "metadata": {},
     "output_type": "execute_result"
    }
   ],
   "source": [
    "xs = np.arange(10) + 1\n",
    "xs"
   ]
  },
  {
   "cell_type": "code",
   "execution_count": 42,
   "id": "763f0223-5aa5-4819-9754-026702a6d532",
   "metadata": {},
   "outputs": [
    {
     "data": {
      "text/plain": [
       "array([ 1,  3,  6, 10, 15, 21, 28, 36, 45, 55])"
      ]
     },
     "execution_count": 42,
     "metadata": {},
     "output_type": "execute_result"
    }
   ],
   "source": [
    "np.cumsum(xs)"
   ]
  },
  {
   "cell_type": "code",
   "execution_count": 43,
   "id": "81422a85-23f5-4f74-9ff8-226c2f204bc8",
   "metadata": {},
   "outputs": [
    {
     "data": {
      "text/plain": [
       "array([      1,       2,       6,      24,     120,     720,    5040,\n",
       "         40320,  362880, 3628800])"
      ]
     },
     "execution_count": 43,
     "metadata": {},
     "output_type": "execute_result"
    }
   ],
   "source": [
    "np.cumprod(xs)"
   ]
  }
 ],
 "metadata": {
  "kernelspec": {
   "display_name": "Python 3 (ipykernel)",
   "language": "python",
   "name": "python3"
  },
  "language_info": {
   "codemirror_mode": {
    "name": "ipython",
    "version": 3
   },
   "file_extension": ".py",
   "mimetype": "text/x-python",
   "name": "python",
   "nbconvert_exporter": "python",
   "pygments_lexer": "ipython3",
   "version": "3.8.12"
  }
 },
 "nbformat": 4,
 "nbformat_minor": 5
}
